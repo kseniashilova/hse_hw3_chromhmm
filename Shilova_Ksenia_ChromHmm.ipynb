{
  "nbformat": 4,
  "nbformat_minor": 0,
  "metadata": {
    "colab": {
      "name": "Shilova_Ksenia_ChromHmm.ipynb",
      "provenance": []
    },
    "kernelspec": {
      "name": "python3",
      "display_name": "Python 3"
    },
    "language_info": {
      "name": "python"
    }
  },
  "cells": [
    {
      "cell_type": "markdown",
      "source": [
        "# Устанавливаем java и ChromHmm"
      ],
      "metadata": {
        "id": "vRciyzvPEDLD"
      }
    },
    {
      "cell_type": "code",
      "source": [
        "!curl -O https://raw.githubusercontent.com/deepjavalibrary/d2l-java/master/tools/fix-colab-gpu.sh && bash fix-colab-gpu.sh"
      ],
      "metadata": {
        "colab": {
          "base_uri": "https://localhost:8080/"
        },
        "id": "1O3GJ3Gys7Tm",
        "outputId": "f3b91f01-f056-4d8b-bda5-7f0b41edbedb"
      },
      "execution_count": null,
      "outputs": [
        {
          "output_type": "stream",
          "name": "stdout",
          "text": [
            "  % Total    % Received % Xferd  Average Speed   Time    Time     Time  Current\n",
            "                                 Dload  Upload   Total   Spent    Left  Speed\n",
            "100   155  100   155    0     0   1115      0 --:--:-- --:--:-- --:--:--  1115\n",
            "nvcc: NVIDIA (R) Cuda compiler driver\n",
            "Copyright (c) 2005-2019 NVIDIA Corporation\n",
            "Built on Sun_Jul_28_19:07:16_PDT_2019\n",
            "Cuda compilation tools, release 10.1, V10.1.243\n"
          ]
        }
      ]
    },
    {
      "cell_type": "code",
      "execution_count": null,
      "metadata": {
        "colab": {
          "base_uri": "https://localhost:8080/"
        },
        "id": "NxS1Mv5WquOV",
        "outputId": "283159c1-59e4-4d67-b6da-b51c397b6839"
      },
      "outputs": [
        {
          "output_type": "stream",
          "name": "stdout",
          "text": [
            "  % Total    % Received % Xferd  Average Speed   Time    Time     Time  Current\n",
            "                                 Dload  Upload   Total   Spent    Left  Speed\n",
            "\r  0     0    0     0    0     0      0      0 --:--:-- --:--:-- --:--:--     0\r100   520  100   520    0     0   4297      0 --:--:-- --:--:-- --:--:--  4297\n",
            "Update environment...\n",
            "Install Java...\n",
            "Install Jupyter java kernel...\n"
          ]
        }
      ],
      "source": [
        "!curl -O https://raw.githubusercontent.com/deepjavalibrary/d2l-java/master/tools/colab_build.sh && bash colab_build.sh"
      ]
    },
    {
      "cell_type": "code",
      "source": [
        "!java --list-modules | grep \"jdk.jshell\"\n"
      ],
      "metadata": {
        "colab": {
          "base_uri": "https://localhost:8080/"
        },
        "id": "_NrPS924rQFX",
        "outputId": "76a3938f-17a8-49f7-8019-108383c29104"
      },
      "execution_count": null,
      "outputs": [
        {
          "output_type": "stream",
          "name": "stdout",
          "text": [
            "jdk.jshell@11.0.14\n"
          ]
        }
      ]
    },
    {
      "cell_type": "code",
      "source": [
        "! wget http://compbio.mit.edu/ChromHMM/ChromHMM.zip"
      ],
      "metadata": {
        "colab": {
          "base_uri": "https://localhost:8080/"
        },
        "id": "zCdYYvCJrpRt",
        "outputId": "9febcaf2-06a9-49f4-ac09-49a01fa58e77"
      },
      "execution_count": null,
      "outputs": [
        {
          "output_type": "stream",
          "name": "stdout",
          "text": [
            "--2022-03-26 20:14:53--  http://compbio.mit.edu/ChromHMM/ChromHMM.zip\n",
            "Resolving compbio.mit.edu (compbio.mit.edu)... 128.30.2.44\n",
            "Connecting to compbio.mit.edu (compbio.mit.edu)|128.30.2.44|:80... connected.\n",
            "HTTP request sent, awaiting response... 200 OK\n",
            "Length: 42396742 (40M) [application/zip]\n",
            "Saving to: ‘ChromHMM.zip’\n",
            "\n",
            "ChromHMM.zip        100%[===================>]  40.43M  79.7MB/s    in 0.5s    \n",
            "\n",
            "2022-03-26 20:14:53 (79.7 MB/s) - ‘ChromHMM.zip’ saved [42396742/42396742]\n",
            "\n"
          ]
        }
      ]
    },
    {
      "cell_type": "code",
      "source": [
        "!unzip /content/ChromHMM.zip"
      ],
      "metadata": {
        "id": "gF4uI2bvvEN2",
        "colab": {
          "base_uri": "https://localhost:8080/"
        },
        "outputId": "d7733fc2-0a4e-4c00-840f-362ac5f4aa40"
      },
      "execution_count": null,
      "outputs": [
        {
          "output_type": "stream",
          "name": "stdout",
          "text": [
            "Archive:  /content/ChromHMM.zip\n",
            "   creating: ChromHMM/ANCHORFILES/\n",
            "   creating: ChromHMM/ANCHORFILES/ce10/\n",
            "  inflating: ChromHMM/ANCHORFILES/ce10/RefSeqTES.ce10.txt.gz  \n",
            "  inflating: ChromHMM/ANCHORFILES/ce10/RefSeqTSS.ce10.txt.gz  \n",
            "   creating: ChromHMM/ANCHORFILES/ce11/\n",
            "  inflating: ChromHMM/ANCHORFILES/ce11/RefSeqTES.ce11.txt.gz  \n",
            "  inflating: ChromHMM/ANCHORFILES/ce11/RefSeqTSS.ce11.txt.gz  \n",
            "   creating: ChromHMM/ANCHORFILES/ce6/\n",
            "  inflating: ChromHMM/ANCHORFILES/ce6/RefSeqTES.ce6.txt.gz  \n",
            "  inflating: ChromHMM/ANCHORFILES/ce6/RefSeqTSS.ce6.txt.gz  \n",
            "   creating: ChromHMM/ANCHORFILES/danRer10/\n",
            "  inflating: ChromHMM/ANCHORFILES/danRer10/RefSeqTES.danRer10.txt.gz  \n",
            "  inflating: ChromHMM/ANCHORFILES/danRer10/RefSeqTSS.danRer10.txt.gz  \n",
            "   creating: ChromHMM/ANCHORFILES/danRer11/\n",
            "  inflating: ChromHMM/ANCHORFILES/danRer11/RefSeqTES.danRer11.txt.gz  \n",
            "  inflating: ChromHMM/ANCHORFILES/danRer11/RefSeqTSS.danRer11.txt.gz  \n",
            "   creating: ChromHMM/ANCHORFILES/danRer7/\n",
            "  inflating: ChromHMM/ANCHORFILES/danRer7/RefSeqTES.danRer7.txt.gz  \n",
            "  inflating: ChromHMM/ANCHORFILES/danRer7/RefSeqTSS.danRer7.txt.gz  \n",
            "   creating: ChromHMM/ANCHORFILES/dm3/\n",
            "  inflating: ChromHMM/ANCHORFILES/dm3/RefSeqTES.dm3.txt.gz  \n",
            "  inflating: ChromHMM/ANCHORFILES/dm3/RefSeqTSS.dm3.txt.gz  \n",
            "   creating: ChromHMM/ANCHORFILES/dm6/\n",
            "  inflating: ChromHMM/ANCHORFILES/dm6/RefSeqTES.dm6.txt.gz  \n",
            "  inflating: ChromHMM/ANCHORFILES/dm6/RefSeqTSS.dm6.txt.gz  \n",
            "   creating: ChromHMM/ANCHORFILES/hg18/\n",
            "  inflating: ChromHMM/ANCHORFILES/hg18/RefSeqTES.hg18.txt.gz  \n",
            "  inflating: ChromHMM/ANCHORFILES/hg18/RefSeqTSS.hg18.txt.gz  \n",
            "   creating: ChromHMM/ANCHORFILES/hg19/\n",
            "  inflating: ChromHMM/ANCHORFILES/hg19/RefSeqTES.hg19.txt.gz  \n",
            "  inflating: ChromHMM/ANCHORFILES/hg19/RefSeqTSS.hg19.txt.gz  \n",
            "   creating: ChromHMM/ANCHORFILES/hg38/\n",
            "  inflating: ChromHMM/ANCHORFILES/hg38/RefSeqTES.hg38.txt.gz  \n",
            "  inflating: ChromHMM/ANCHORFILES/hg38/RefSeqTSS.hg38.txt.gz  \n",
            "   creating: ChromHMM/ANCHORFILES/mm10/\n",
            "  inflating: ChromHMM/ANCHORFILES/mm10/RefSeqTES.mm10.txt.gz  \n",
            "  inflating: ChromHMM/ANCHORFILES/mm10/RefSeqTSS.mm10.txt.gz  \n",
            "   creating: ChromHMM/ANCHORFILES/mm9/\n",
            "  inflating: ChromHMM/ANCHORFILES/mm9/RefSeqTES.mm9.txt.gz  \n",
            "  inflating: ChromHMM/ANCHORFILES/mm9/RefSeqTSS.mm9.txt.gz  \n",
            "   creating: ChromHMM/ANCHORFILES/rn5/\n",
            "  inflating: ChromHMM/ANCHORFILES/rn5/RefSeqTES.rn5.txt.gz  \n",
            "  inflating: ChromHMM/ANCHORFILES/rn5/RefSeqTSS.rn5.txt.gz  \n",
            "   creating: ChromHMM/ANCHORFILES/rn6/\n",
            "  inflating: ChromHMM/ANCHORFILES/rn6/RefSeqTES.rn6.txt.gz  \n",
            "  inflating: ChromHMM/ANCHORFILES/rn6/RefSeqTSS.rn6.txt.gz  \n",
            "  inflating: ChromHMM/ChromHMM.jar   \n",
            "  inflating: ChromHMM/ChromHMM_manual.pdf  \n",
            "   creating: ChromHMM/CHROMSIZES/\n",
            "  inflating: ChromHMM/CHROMSIZES/ce10.txt  \n",
            "  inflating: ChromHMM/CHROMSIZES/ce11.txt  \n",
            "  inflating: ChromHMM/CHROMSIZES/ce6.txt  \n",
            "  inflating: ChromHMM/CHROMSIZES/danRer10.txt  \n",
            "  inflating: ChromHMM/CHROMSIZES/danRer11.txt  \n",
            "  inflating: ChromHMM/CHROMSIZES/danRer7.txt  \n",
            "  inflating: ChromHMM/CHROMSIZES/dm3.txt  \n",
            "  inflating: ChromHMM/CHROMSIZES/dm6.txt  \n",
            "  inflating: ChromHMM/CHROMSIZES/hg18.txt  \n",
            "  inflating: ChromHMM/CHROMSIZES/hg19.txt  \n",
            "  inflating: ChromHMM/CHROMSIZES/hg38.txt  \n",
            "  inflating: ChromHMM/CHROMSIZES/mm10.txt  \n",
            "  inflating: ChromHMM/CHROMSIZES/mm9.txt  \n",
            "  inflating: ChromHMM/CHROMSIZES/rn5.txt  \n",
            "  inflating: ChromHMM/CHROMSIZES/rn6.txt  \n",
            "   creating: ChromHMM/COORDS/\n",
            "   creating: ChromHMM/COORDS/ce10/\n",
            "  inflating: ChromHMM/COORDS/ce10/RefSeqExon.ce10.bed.gz  \n",
            "  inflating: ChromHMM/COORDS/ce10/RefSeqGene.ce10.bed.gz  \n",
            "  inflating: ChromHMM/COORDS/ce10/RefSeqTES.ce10.bed.gz  \n",
            "  inflating: ChromHMM/COORDS/ce10/RefSeqTSS.ce10.bed.gz  \n",
            "  inflating: ChromHMM/COORDS/ce10/RefSeqTSS2kb.ce10.bed.gz  \n",
            "   creating: ChromHMM/COORDS/ce11/\n",
            "  inflating: ChromHMM/COORDS/ce11/RefSeqExon.ce11.bed.gz  \n",
            "  inflating: ChromHMM/COORDS/ce11/RefSeqGene.ce11.bed.gz  \n",
            "  inflating: ChromHMM/COORDS/ce11/RefSeqTES.ce11.bed.gz  \n",
            "  inflating: ChromHMM/COORDS/ce11/RefSeqTSS.ce11.bed.gz  \n",
            "  inflating: ChromHMM/COORDS/ce11/RefSeqTSS2kb.ce11.bed.gz  \n",
            "   creating: ChromHMM/COORDS/ce6/\n",
            "  inflating: ChromHMM/COORDS/ce6/RefSeqExon.ce6.bed.gz  \n",
            "  inflating: ChromHMM/COORDS/ce6/RefSeqGene.ce6.bed.gz  \n",
            "  inflating: ChromHMM/COORDS/ce6/RefSeqTES.ce6.bed.gz  \n",
            "  inflating: ChromHMM/COORDS/ce6/RefSeqTSS.ce6.bed.gz  \n",
            "  inflating: ChromHMM/COORDS/ce6/RefSeqTSS2kb.ce6.bed.gz  \n",
            "   creating: ChromHMM/COORDS/danRer10/\n",
            "  inflating: ChromHMM/COORDS/danRer10/RefSeqExon.danRer10.bed.gz  \n",
            "  inflating: ChromHMM/COORDS/danRer10/RefSeqGene.danRer10.bed.gz  \n",
            "  inflating: ChromHMM/COORDS/danRer10/RefSeqTES.danRer10.bed.gz  \n",
            "  inflating: ChromHMM/COORDS/danRer10/RefSeqTSS.danRer10.bed.gz  \n",
            "  inflating: ChromHMM/COORDS/danRer10/RefSeqTSS2kb.danRer10.bed.gz  \n",
            "   creating: ChromHMM/COORDS/danRer11/\n",
            "  inflating: ChromHMM/COORDS/danRer11/RefSeqExon.danRer11.bed.gz  \n",
            "  inflating: ChromHMM/COORDS/danRer11/RefSeqGene.danRer11.bed.gz  \n",
            "  inflating: ChromHMM/COORDS/danRer11/RefSeqTES.danRer11.bed.gz  \n",
            "  inflating: ChromHMM/COORDS/danRer11/RefSeqTSS.danRer11.bed.gz  \n",
            "  inflating: ChromHMM/COORDS/danRer11/RefSeqTSS2kb.danRer11.bed.gz  \n",
            "   creating: ChromHMM/COORDS/danRer7/\n",
            "  inflating: ChromHMM/COORDS/danRer7/RefSeqExon.danRer7.bed.gz  \n",
            "  inflating: ChromHMM/COORDS/danRer7/RefSeqGene.danRer7.bed.gz  \n",
            "  inflating: ChromHMM/COORDS/danRer7/RefSeqTES.danRer7.bed.gz  \n",
            "  inflating: ChromHMM/COORDS/danRer7/RefSeqTSS.danRer7.bed.gz  \n",
            "  inflating: ChromHMM/COORDS/danRer7/RefSeqTSS2kb.danRer7.bed.gz  \n",
            "   creating: ChromHMM/COORDS/dm3/\n",
            "  inflating: ChromHMM/COORDS/dm3/RefSeqExon.dm3.bed.gz  \n",
            "  inflating: ChromHMM/COORDS/dm3/RefSeqGene.dm3.bed.gz  \n",
            "  inflating: ChromHMM/COORDS/dm3/RefSeqTES.dm3.bed.gz  \n",
            "  inflating: ChromHMM/COORDS/dm3/RefSeqTSS.dm3.bed.gz  \n",
            "  inflating: ChromHMM/COORDS/dm3/RefSeqTSS2kb.dm3.bed.gz  \n",
            "   creating: ChromHMM/COORDS/dm6/\n",
            "  inflating: ChromHMM/COORDS/dm6/RefSeqExon.dm6.bed.gz  \n",
            "  inflating: ChromHMM/COORDS/dm6/RefSeqGene.dm6.bed.gz  \n",
            "  inflating: ChromHMM/COORDS/dm6/RefSeqTES.dm6.bed.gz  \n",
            "  inflating: ChromHMM/COORDS/dm6/RefSeqTSS.dm6.bed.gz  \n",
            "  inflating: ChromHMM/COORDS/dm6/RefSeqTSS2kb.dm6.bed.gz  \n",
            "   creating: ChromHMM/COORDS/hg18/\n",
            "  inflating: ChromHMM/COORDS/hg18/CpGIsland.hg18.bed.gz  \n",
            " extracting: ChromHMM/COORDS/hg18/laminB1lads.hg18.bed.gz  \n",
            "  inflating: ChromHMM/COORDS/hg18/RefSeqExon.hg18.bed.gz  \n",
            "  inflating: ChromHMM/COORDS/hg18/RefSeqGene.hg18.bed.gz  \n",
            "  inflating: ChromHMM/COORDS/hg18/RefSeqTES.hg18.bed.gz  \n",
            "  inflating: ChromHMM/COORDS/hg18/RefSeqTSS.hg18.bed.gz  \n",
            "  inflating: ChromHMM/COORDS/hg18/RefSeqTSS2kb.hg18.bed.gz  \n",
            "   creating: ChromHMM/COORDS/hg19/\n",
            "  inflating: ChromHMM/COORDS/hg19/CpGIsland.hg19.bed.gz  \n",
            " extracting: ChromHMM/COORDS/hg19/laminB1lads.hg19.bed.gz  \n",
            "  inflating: ChromHMM/COORDS/hg19/RefSeqExon.hg19.bed.gz  \n",
            "  inflating: ChromHMM/COORDS/hg19/RefSeqGene.hg19.bed.gz  \n",
            "  inflating: ChromHMM/COORDS/hg19/RefSeqTES.hg19.bed.gz  \n",
            "  inflating: ChromHMM/COORDS/hg19/RefSeqTSS.hg19.bed.gz  \n",
            "  inflating: ChromHMM/COORDS/hg19/RefSeqTSS2kb.hg19.bed.gz  \n",
            "   creating: ChromHMM/COORDS/hg38/\n",
            "  inflating: ChromHMM/COORDS/hg38/CpGIsland.hg38.bed.gz  \n",
            "  inflating: ChromHMM/COORDS/hg38/RefSeqExon.hg38.bed.gz  \n",
            "  inflating: ChromHMM/COORDS/hg38/RefSeqGene.hg38.bed.gz  \n",
            "  inflating: ChromHMM/COORDS/hg38/RefSeqTES.hg38.bed.gz  \n",
            "  inflating: ChromHMM/COORDS/hg38/RefSeqTSS.hg38.bed.gz  \n",
            "  inflating: ChromHMM/COORDS/hg38/RefSeqTSS2kb.hg38.bed.gz  \n",
            "   creating: ChromHMM/COORDS/mm10/\n",
            "  inflating: ChromHMM/COORDS/mm10/CpGIsland.mm10.bed.gz  \n",
            "  inflating: ChromHMM/COORDS/mm10/RefSeqExon.mm10.bed.gz  \n",
            "  inflating: ChromHMM/COORDS/mm10/RefSeqGene.mm10.bed.gz  \n",
            "  inflating: ChromHMM/COORDS/mm10/RefSeqTES.mm10.bed.gz  \n",
            "  inflating: ChromHMM/COORDS/mm10/RefSeqTSS.mm10.bed.gz  \n",
            "  inflating: ChromHMM/COORDS/mm10/RefSeqTSS2kb.mm10.bed.gz  \n",
            "   creating: ChromHMM/COORDS/mm9/\n",
            "  inflating: ChromHMM/COORDS/mm9/CpGIsland.mm9.bed.gz  \n",
            "  inflating: ChromHMM/COORDS/mm9/RefSeqExon.mm9.bed.gz  \n",
            "  inflating: ChromHMM/COORDS/mm9/RefSeqGene.mm9.bed.gz  \n",
            "  inflating: ChromHMM/COORDS/mm9/RefSeqTES.mm9.bed.gz  \n",
            "  inflating: ChromHMM/COORDS/mm9/RefSeqTSS.mm9.bed.gz  \n",
            "  inflating: ChromHMM/COORDS/mm9/RefSeqTSS2kb.mm9.bed.gz  \n",
            "   creating: ChromHMM/COORDS/rn5/\n",
            "  inflating: ChromHMM/COORDS/rn5/CpGIsland.rn5.bed.gz  \n",
            "  inflating: ChromHMM/COORDS/rn5/RefSeqExon.rn5.bed.gz  \n",
            "  inflating: ChromHMM/COORDS/rn5/RefSeqGene.rn5.bed.gz  \n",
            "  inflating: ChromHMM/COORDS/rn5/RefSeqTES.rn5.bed.gz  \n",
            "  inflating: ChromHMM/COORDS/rn5/RefSeqTSS.rn5.bed.gz  \n",
            "  inflating: ChromHMM/COORDS/rn5/RefSeqTSS2kb.rn5.bed.gz  \n",
            "   creating: ChromHMM/COORDS/rn6/\n",
            "  inflating: ChromHMM/COORDS/rn6/CpGIsland.rn6.bed.gz  \n",
            "  inflating: ChromHMM/COORDS/rn6/RefSeqExon.rn6.bed.gz  \n",
            "  inflating: ChromHMM/COORDS/rn6/RefSeqGene.rn6.bed.gz  \n",
            "  inflating: ChromHMM/COORDS/rn6/RefSeqTES.rn6.bed.gz  \n",
            "  inflating: ChromHMM/COORDS/rn6/RefSeqTSS.rn6.bed.gz  \n",
            "  inflating: ChromHMM/COORDS/rn6/RefSeqTSS2kb.rn6.bed.gz  \n",
            "   creating: ChromHMM/SAMPLEDATA_HG18/\n",
            "  inflating: ChromHMM/SAMPLEDATA_HG18/GM12878_chr11_binary.txt.gz  \n",
            "  inflating: ChromHMM/SAMPLEDATA_HG18/K562_chr11_binary.txt.gz  \n",
            "   creating: ChromHMM/SRC/\n",
            "   creating: ChromHMM/SRC/edu/\n",
            "   creating: ChromHMM/SRC/edu/mit/\n",
            "   creating: ChromHMM/SRC/edu/mit/compbio/\n",
            "   creating: ChromHMM/SRC/edu/mit/compbio/ChromHMM/\n",
            "  inflating: ChromHMM/SRC/edu/mit/compbio/ChromHMM/BrowserOutput.java  \n",
            "  inflating: ChromHMM/SRC/edu/mit/compbio/ChromHMM/ChromHMM.java  \n",
            "  inflating: ChromHMM/SRC/edu/mit/compbio/ChromHMM/ConvertGeneTable.java  \n",
            "  inflating: ChromHMM/SRC/edu/mit/compbio/ChromHMM/NestedEliminateInitialize.java  \n",
            "  inflating: ChromHMM/SRC/edu/mit/compbio/ChromHMM/Preprocessing.java  \n",
            "  inflating: ChromHMM/SRC/edu/mit/compbio/ChromHMM/StateAnalysis.java  \n",
            "  inflating: ChromHMM/SRC/edu/mit/compbio/ChromHMM/Util.java  \n",
            "   creating: ChromHMM/SRC/org/\n",
            "   creating: ChromHMM/SRC/org/tc33/\n",
            "   creating: ChromHMM/SRC/org/tc33/jheatchart/\n",
            "  inflating: ChromHMM/SRC/org/tc33/jheatchart/HeatChart.java  \n"
          ]
        }
      ]
    },
    {
      "cell_type": "markdown",
      "source": [
        "# Скачиваем файлы"
      ],
      "metadata": {
        "id": "k80uGrS5quq1"
      }
    },
    {
      "cell_type": "code",
      "source": [
        "! wget http://hgdownload.cse.ucsc.edu/goldenPath/hg19/encodeDCC/wgEncodeBroadHistone/wgEncodeBroadHistoneDnd41H2azAlnRep1.bam -O H2azAlnRep1.bam\n",
        "! wget http://hgdownload.cse.ucsc.edu/goldenPath/hg19/encodeDCC/wgEncodeBroadHistone/wgEncodeBroadHistoneDnd41H3k27acAlnRep1.bam -O H3k27acAlnRep1.bam\n",
        "! wget http://hgdownload.cse.ucsc.edu/goldenPath/hg19/encodeDCC/wgEncodeBroadHistone/wgEncodeBroadHistoneDnd41H3k27me3AlnRep1.bam -O H3k27me3AlnRep1.bam\n",
        "! wget http://hgdownload.cse.ucsc.edu/goldenPath/hg19/encodeDCC/wgEncodeBroadHistone/wgEncodeBroadHistoneDnd41H3k36me3AlnRep1.bam -O H3k36me3AlnRep1.bam\n",
        "! wget http://hgdownload.cse.ucsc.edu/goldenPath/hg19/encodeDCC/wgEncodeBroadHistone/wgEncodeBroadHistoneDnd41H3k04me1AlnRep1.bam -O H3k04me1AlnRep1.bam\n",
        "! wget http://hgdownload.cse.ucsc.edu/goldenPath/hg19/encodeDCC/wgEncodeBroadHistone/wgEncodeBroadHistoneDnd41H3k04me2AlnRep1.bam -O H3k04me2AlnRep1.bam\n",
        "! wget http://hgdownload.cse.ucsc.edu/goldenPath/hg19/encodeDCC/wgEncodeBroadHistone/wgEncodeBroadHistoneDnd41H3k04me3AlnRep1.bam -O H3k04me3AlnRep1.bam\n",
        "! wget http://hgdownload.cse.ucsc.edu/goldenPath/hg19/encodeDCC/wgEncodeBroadHistone/wgEncodeBroadHistoneDnd41H3k79me2AlnRep1.bam -O H3k79me2AlnRep1.bam\n",
        "! wget http://hgdownload.cse.ucsc.edu/goldenPath/hg19/encodeDCC/wgEncodeBroadHistone/wgEncodeBroadHistoneDnd41H3k09me3AlnRep1.bam -O H3k09me3AlnRep1.bam\n",
        "! wget http://hgdownload.cse.ucsc.edu/goldenPath/hg19/encodeDCC/wgEncodeBroadHistone/wgEncodeBroadHistoneDnd41H4k20me1AlnRep1.bam -O H4k20me1AlnRep1.bam"
      ],
      "metadata": {
        "id": "PSWbbv8wcFUY",
        "colab": {
          "base_uri": "https://localhost:8080/"
        },
        "outputId": "d8c303e9-b8ce-417f-e269-75183825615c"
      },
      "execution_count": null,
      "outputs": [
        {
          "output_type": "stream",
          "name": "stdout",
          "text": [
            "--2022-03-26 22:26:25--  http://hgdownload.cse.ucsc.edu/goldenPath/hg19/encodeDCC/wgEncodeBroadHistone/wgEncodeBroadHistoneDnd41H2azAlnRep1.bam\n",
            "Resolving hgdownload.cse.ucsc.edu (hgdownload.cse.ucsc.edu)... 128.114.119.163\n",
            "Connecting to hgdownload.cse.ucsc.edu (hgdownload.cse.ucsc.edu)|128.114.119.163|:80... connected.\n",
            "HTTP request sent, awaiting response... 200 OK\n",
            "Length: 1365570218 (1.3G) [application/octet-stream]\n",
            "Saving to: ‘H2azAlnRep1.bam’\n",
            "\n",
            "H2azAlnRep1.bam     100%[===================>]   1.27G  38.7MB/s    in 35s     \n",
            "\n",
            "2022-03-26 22:27:00 (37.4 MB/s) - ‘H2azAlnRep1.bam’ saved [1365570218/1365570218]\n",
            "\n",
            "--2022-03-26 22:27:01--  http://hgdownload.cse.ucsc.edu/goldenPath/hg19/encodeDCC/wgEncodeBroadHistone/wgEncodeBroadHistoneDnd41H3k27acAlnRep1.bam\n",
            "Resolving hgdownload.cse.ucsc.edu (hgdownload.cse.ucsc.edu)... 128.114.119.163\n",
            "Connecting to hgdownload.cse.ucsc.edu (hgdownload.cse.ucsc.edu)|128.114.119.163|:80... connected.\n",
            "HTTP request sent, awaiting response... 200 OK\n",
            "Length: 1488790047 (1.4G) [application/octet-stream]\n",
            "Saving to: ‘H3k27acAlnRep1.bam’\n",
            "\n",
            "H3k27acAlnRep1.bam  100%[===================>]   1.39G  38.1MB/s    in 39s     \n",
            "\n",
            "2022-03-26 22:27:40 (36.2 MB/s) - ‘H3k27acAlnRep1.bam’ saved [1488790047/1488790047]\n",
            "\n",
            "--2022-03-26 22:27:40--  http://hgdownload.cse.ucsc.edu/goldenPath/hg19/encodeDCC/wgEncodeBroadHistone/wgEncodeBroadHistoneDnd41H3k27me3AlnRep1.bam\n",
            "Resolving hgdownload.cse.ucsc.edu (hgdownload.cse.ucsc.edu)... 128.114.119.163\n",
            "Connecting to hgdownload.cse.ucsc.edu (hgdownload.cse.ucsc.edu)|128.114.119.163|:80... connected.\n",
            "HTTP request sent, awaiting response... 200 OK\n",
            "Length: 1328000872 (1.2G) [application/octet-stream]\n",
            "Saving to: ‘H3k27me3AlnRep1.bam’\n",
            "\n",
            "H3k27me3AlnRep1.bam 100%[===================>]   1.24G  37.3MB/s    in 35s     \n",
            "\n",
            "2022-03-26 22:28:15 (36.2 MB/s) - ‘H3k27me3AlnRep1.bam’ saved [1328000872/1328000872]\n",
            "\n",
            "--2022-03-26 22:28:16--  http://hgdownload.cse.ucsc.edu/goldenPath/hg19/encodeDCC/wgEncodeBroadHistone/wgEncodeBroadHistoneDnd41H3k36me3AlnRep1.bam\n",
            "Resolving hgdownload.cse.ucsc.edu (hgdownload.cse.ucsc.edu)... 128.114.119.163\n",
            "Connecting to hgdownload.cse.ucsc.edu (hgdownload.cse.ucsc.edu)|128.114.119.163|:80... connected.\n",
            "HTTP request sent, awaiting response... 200 OK\n",
            "Length: 1425221160 (1.3G) [application/octet-stream]\n",
            "Saving to: ‘H3k36me3AlnRep1.bam’\n",
            "\n",
            "H3k36me3AlnRep1.bam 100%[===================>]   1.33G  32.5MB/s    in 40s     \n",
            "\n",
            "2022-03-26 22:28:56 (34.1 MB/s) - ‘H3k36me3AlnRep1.bam’ saved [1425221160/1425221160]\n",
            "\n",
            "--2022-03-26 22:28:56--  http://hgdownload.cse.ucsc.edu/goldenPath/hg19/encodeDCC/wgEncodeBroadHistone/wgEncodeBroadHistoneDnd41H3k04me1AlnRep1.bam\n",
            "Resolving hgdownload.cse.ucsc.edu (hgdownload.cse.ucsc.edu)... 128.114.119.163\n",
            "Connecting to hgdownload.cse.ucsc.edu (hgdownload.cse.ucsc.edu)|128.114.119.163|:80... connected.\n",
            "HTTP request sent, awaiting response... 200 OK\n",
            "Length: 1166471220 (1.1G) [application/octet-stream]\n",
            "Saving to: ‘H3k04me1AlnRep1.bam’\n",
            "\n",
            "H3k04me1AlnRep1.bam 100%[===================>]   1.09G  38.6MB/s    in 31s     \n",
            "\n",
            "2022-03-26 22:29:27 (36.3 MB/s) - ‘H3k04me1AlnRep1.bam’ saved [1166471220/1166471220]\n",
            "\n",
            "--2022-03-26 22:29:27--  http://hgdownload.cse.ucsc.edu/goldenPath/hg19/encodeDCC/wgEncodeBroadHistone/wgEncodeBroadHistoneDnd41H3k04me2AlnRep1.bam\n",
            "Resolving hgdownload.cse.ucsc.edu (hgdownload.cse.ucsc.edu)... 128.114.119.163\n",
            "Connecting to hgdownload.cse.ucsc.edu (hgdownload.cse.ucsc.edu)|128.114.119.163|:80... connected.\n",
            "HTTP request sent, awaiting response... 200 OK\n",
            "Length: 1120577001 (1.0G) [application/octet-stream]\n",
            "Saving to: ‘H3k04me2AlnRep1.bam’\n",
            "\n",
            "H3k04me2AlnRep1.bam 100%[===================>]   1.04G  39.8MB/s    in 28s     \n",
            "\n",
            "2022-03-26 22:29:55 (38.6 MB/s) - ‘H3k04me2AlnRep1.bam’ saved [1120577001/1120577001]\n",
            "\n",
            "--2022-03-26 22:29:55--  http://hgdownload.cse.ucsc.edu/goldenPath/hg19/encodeDCC/wgEncodeBroadHistone/wgEncodeBroadHistoneDnd41H3k04me3AlnRep1.bam\n",
            "Resolving hgdownload.cse.ucsc.edu (hgdownload.cse.ucsc.edu)... 128.114.119.163\n",
            "Connecting to hgdownload.cse.ucsc.edu (hgdownload.cse.ucsc.edu)|128.114.119.163|:80... connected.\n",
            "HTTP request sent, awaiting response... 200 OK\n",
            "Length: 1387145166 (1.3G) [application/octet-stream]\n",
            "Saving to: ‘H3k04me3AlnRep1.bam’\n",
            "\n",
            "H3k04me3AlnRep1.bam 100%[===================>]   1.29G  39.3MB/s    in 35s     \n",
            "\n",
            "2022-03-26 22:30:30 (38.1 MB/s) - ‘H3k04me3AlnRep1.bam’ saved [1387145166/1387145166]\n",
            "\n",
            "--2022-03-26 22:30:30--  http://hgdownload.cse.ucsc.edu/goldenPath/hg19/encodeDCC/wgEncodeBroadHistone/wgEncodeBroadHistoneDnd41H3k79me2AlnRep1.bam\n",
            "Resolving hgdownload.cse.ucsc.edu (hgdownload.cse.ucsc.edu)... 128.114.119.163\n",
            "Connecting to hgdownload.cse.ucsc.edu (hgdownload.cse.ucsc.edu)|128.114.119.163|:80... connected.\n",
            "HTTP request sent, awaiting response... 200 OK\n",
            "Length: 1452123141 (1.4G) [application/octet-stream]\n",
            "Saving to: ‘H3k79me2AlnRep1.bam’\n",
            "\n",
            "H3k79me2AlnRep1.bam 100%[===================>]   1.35G  40.7MB/s    in 36s     \n",
            "\n",
            "2022-03-26 22:31:06 (38.8 MB/s) - ‘H3k79me2AlnRep1.bam’ saved [1452123141/1452123141]\n",
            "\n",
            "--2022-03-26 22:31:06--  http://hgdownload.cse.ucsc.edu/goldenPath/hg19/encodeDCC/wgEncodeBroadHistone/wgEncodeBroadHistoneDnd41H3k09me3AlnRep1.bam\n",
            "Resolving hgdownload.cse.ucsc.edu (hgdownload.cse.ucsc.edu)... 128.114.119.163\n",
            "Connecting to hgdownload.cse.ucsc.edu (hgdownload.cse.ucsc.edu)|128.114.119.163|:80... connected.\n",
            "HTTP request sent, awaiting response... 200 OK\n",
            "Length: 1103486625 (1.0G) [application/octet-stream]\n",
            "Saving to: ‘H3k09me3AlnRep1.bam’\n",
            "\n",
            "H3k09me3AlnRep1.bam 100%[===================>]   1.03G  39.7MB/s    in 27s     \n",
            "\n",
            "2022-03-26 22:31:34 (38.4 MB/s) - ‘H3k09me3AlnRep1.bam’ saved [1103486625/1103486625]\n",
            "\n",
            "--2022-03-26 22:31:34--  http://hgdownload.cse.ucsc.edu/goldenPath/hg19/encodeDCC/wgEncodeBroadHistone/wgEncodeBroadHistoneDnd41H4k20me1AlnRep1.bam\n",
            "Resolving hgdownload.cse.ucsc.edu (hgdownload.cse.ucsc.edu)... 128.114.119.163\n",
            "Connecting to hgdownload.cse.ucsc.edu (hgdownload.cse.ucsc.edu)|128.114.119.163|:80... connected.\n",
            "HTTP request sent, awaiting response... 200 OK\n",
            "Length: 1500857141 (1.4G) [application/octet-stream]\n",
            "Saving to: ‘H4k20me1AlnRep1.bam’\n",
            "\n",
            "H4k20me1AlnRep1.bam 100%[===================>]   1.40G  41.0MB/s    in 36s     \n",
            "\n",
            "2022-03-26 22:32:10 (39.9 MB/s) - ‘H4k20me1AlnRep1.bam’ saved [1500857141/1500857141]\n",
            "\n"
          ]
        }
      ]
    },
    {
      "cell_type": "markdown",
      "source": [
        "Контроль"
      ],
      "metadata": {
        "id": "GbNNxkZG79rJ"
      }
    },
    {
      "cell_type": "code",
      "source": [
        "! wget http://hgdownload.cse.ucsc.edu/goldenPath/hg19/encodeDCC/wgEncodeBroadHistone/wgEncodeBroadHistoneDnd41ControlStdAlnRep1.bam -O ControlStdAlnRep1.bam"
      ],
      "metadata": {
        "colab": {
          "base_uri": "https://localhost:8080/"
        },
        "id": "CawjoOYY76lV",
        "outputId": "6480aa9e-c78e-4971-d3eb-04e4c5bea834"
      },
      "execution_count": null,
      "outputs": [
        {
          "output_type": "stream",
          "name": "stdout",
          "text": [
            "--2022-03-26 22:32:26--  http://hgdownload.cse.ucsc.edu/goldenPath/hg19/encodeDCC/wgEncodeBroadHistone/wgEncodeBroadHistoneDnd41ControlStdAlnRep1.bam\n",
            "Resolving hgdownload.cse.ucsc.edu (hgdownload.cse.ucsc.edu)... 128.114.119.163\n",
            "Connecting to hgdownload.cse.ucsc.edu (hgdownload.cse.ucsc.edu)|128.114.119.163|:80... connected.\n",
            "HTTP request sent, awaiting response... 200 OK\n",
            "Length: 1650447405 (1.5G) [application/octet-stream]\n",
            "Saving to: ‘ControlStdAlnRep1.bam’\n",
            "\n",
            "ControlStdAlnRep1.b 100%[===================>]   1.54G  40.4MB/s    in 40s     \n",
            "\n",
            "2022-03-26 22:33:07 (39.0 MB/s) - ‘ControlStdAlnRep1.bam’ saved [1650447405/1650447405]\n",
            "\n"
          ]
        }
      ]
    },
    {
      "cell_type": "markdown",
      "source": [
        "# Файл cellmarkfiletable.txt"
      ],
      "metadata": {
        "id": "asjMJ26h79SY"
      }
    },
    {
      "cell_type": "markdown",
      "source": [
        "ChromHMM с опцией BinarizeBam"
      ],
      "metadata": {
        "id": "WeoRL3rp728b"
      }
    },
    {
      "cell_type": "code",
      "source": [
        "!java -mx5000M -jar /content/ChromHMM/ChromHMM.jar BinarizeBam -b 200  /content/ChromHMM/CHROMSIZES/hg19.txt /content/ cellmarkfiletable.txt   binarizedData\n"
      ],
      "metadata": {
        "colab": {
          "base_uri": "https://localhost:8080/"
        },
        "id": "GcVBvuQZfzb8",
        "outputId": "c24bca23-0bb6-468c-ca87-3b49face64f8"
      },
      "execution_count": null,
      "outputs": [
        {
          "output_type": "stream",
          "name": "stdout",
          "text": [
            "Writing to file binarizedData/DND41_chr1_binary.txt\n",
            "Writing to file binarizedData/DND41_chr2_binary.txt\n",
            "Writing to file binarizedData/DND41_chr3_binary.txt\n",
            "Writing to file binarizedData/DND41_chr4_binary.txt\n",
            "Writing to file binarizedData/DND41_chr5_binary.txt\n",
            "Writing to file binarizedData/DND41_chr6_binary.txt\n",
            "Writing to file binarizedData/DND41_chr7_binary.txt\n",
            "Writing to file binarizedData/DND41_chrX_binary.txt\n",
            "Writing to file binarizedData/DND41_chr8_binary.txt\n",
            "Writing to file binarizedData/DND41_chr9_binary.txt\n",
            "Writing to file binarizedData/DND41_chr10_binary.txt\n",
            "Writing to file binarizedData/DND41_chr11_binary.txt\n",
            "Writing to file binarizedData/DND41_chr12_binary.txt\n",
            "Writing to file binarizedData/DND41_chr13_binary.txt\n",
            "Writing to file binarizedData/DND41_chr14_binary.txt\n",
            "Writing to file binarizedData/DND41_chr15_binary.txt\n",
            "Writing to file binarizedData/DND41_chr16_binary.txt\n",
            "Writing to file binarizedData/DND41_chr17_binary.txt\n",
            "Writing to file binarizedData/DND41_chr18_binary.txt\n",
            "Writing to file binarizedData/DND41_chr20_binary.txt\n",
            "Writing to file binarizedData/DND41_chrY_binary.txt\n",
            "Writing to file binarizedData/DND41_chr19_binary.txt\n",
            "Writing to file binarizedData/DND41_chr22_binary.txt\n",
            "Writing to file binarizedData/DND41_chr21_binary.txt\n",
            "Writing to file binarizedData/DND41_chrM_binary.txt\n"
          ]
        }
      ]
    },
    {
      "cell_type": "markdown",
      "source": [
        "ChromHMM с опцией LearnModel \n"
      ],
      "metadata": {
        "id": "Yo11TtNG8SXU"
      }
    },
    {
      "cell_type": "code",
      "source": [
        "!java -mx1200M -jar /content/ChromHMM/ChromHMM.jar LearnModel binarizedData LearnModelOutput 10 hg19"
      ],
      "metadata": {
        "colab": {
          "base_uri": "https://localhost:8080/"
        },
        "id": "TTJw374_Bzes",
        "outputId": "11a96c5f-3848-4a09-b31d-33174d352734"
      },
      "execution_count": null,
      "outputs": [
        {
          "output_type": "stream",
          "name": "stdout",
          "text": [
            "Writing to file LearnModelOutput/transitions_10.txt\n",
            "Writing to file LearnModelOutput/emissions_10.txt\n",
            "Writing to file LearnModelOutput/emissions_10.svg\n",
            "Writing to file LearnModelOutput/emissions_10.png\n",
            "Writing to file LearnModelOutput/transitions_10.png\n",
            "Writing to file LearnModelOutput/transitions_10.svg\n",
            "Writing to file LearnModelOutput/model_10.txt\n",
            " Iteration  Estimated Log Likelihood     Change    Total Time (secs)\n",
            "         1             -11445743.238          -                 16.6\n",
            "         2              -9749622.945 1696120.293                 29.3\n",
            "         3              -9241935.968 507686.978                 40.2\n",
            "         4              -9047005.144 194930.824                 58.4\n",
            "         5              -8948773.802  98231.342                 68.7\n",
            "         6              -8876780.281  71993.521                 79.0\n",
            "         7              -8806099.701  70680.580                 89.4\n",
            "         8              -8750743.586  55356.115                 99.5\n",
            "         9              -8709656.922  41086.664                109.8\n",
            "        10              -8662151.705  47505.217                120.2\n",
            "        11              -8612583.140  49568.565                130.4\n",
            "        12              -8586490.734  26092.406                140.8\n",
            "        13              -8576666.304   9824.430                151.2\n",
            "        14              -8572547.936   4118.369                161.5\n",
            "        15              -8570573.013   1974.923                171.8\n",
            "        16              -8569437.804   1135.209                182.1\n",
            "        17              -8568552.078    885.726                192.4\n",
            "        18              -8567552.435    999.643                202.7\n",
            "        19              -8565917.337   1635.098                214.3\n",
            "        20              -8562351.531   3565.805                224.7\n",
            "        21              -8556401.319   5950.212                234.9\n",
            "        22              -8551476.230   4925.089                245.3\n",
            "        23              -8548873.715   2602.515                255.6\n",
            "        24              -8547631.119   1242.596                265.9\n",
            "        25              -8547016.462    614.656                276.3\n",
            "        26              -8546695.228    321.234                286.7\n",
            "        27              -8546516.948    178.280                297.1\n",
            "        28              -8546412.011    104.937                307.4\n",
            "        29              -8546347.067     64.944                317.8\n",
            "        30              -8546305.316     41.751                328.3\n",
            "        31              -8546277.734     27.582                338.7\n",
            "        32              -8546259.178     18.556                356.5\n",
            "        33              -8546246.550     12.628                367.0\n",
            "        34              -8546237.896      8.654                377.5\n",
            "        35              -8546231.944      5.952                388.0\n",
            "        36              -8546227.847      4.097                398.5\n",
            "        37              -8546225.030      2.817                409.0\n",
            "        38              -8546223.102      1.928                419.7\n",
            "        39              -8546221.788      1.314                430.2\n",
            "        40              -8546220.901      0.887                440.8\n",
            "        41              -8546220.308      0.592                451.5\n",
            "        42              -8546219.919      0.389                462.2\n",
            "        43              -8546219.670      0.249                472.8\n",
            "        44              -8546219.516      0.155                483.3\n",
            "        45              -8546219.425      0.090                493.9\n",
            "        46              -8546219.378      0.048                504.5\n",
            "        47              -8546219.358      0.020                515.1\n",
            "        48              -8546219.355      0.002                525.8\n",
            "        49              -8546219.364     -0.008                536.7\n",
            "Writing to file LearnModelOutput/DND41_10_segments.bed\n",
            "Writing to file LearnModelOutput/DND41_10_dense.bed\n",
            "Writing to file LearnModelOutput/DND41_10_expanded.bed\n",
            "Writing to file LearnModelOutput/DND41_10_overlap.txt\n",
            "Writing to file LearnModelOutput/DND41_10_overlap.png\n",
            "Writing to file LearnModelOutput/DND41_10_overlap.svg\n",
            "Writing to file LearnModelOutput/DND41_10_RefSeqTSS_neighborhood.txt\n",
            "Writing to file LearnModelOutput/DND41_10_RefSeqTSS_neighborhood.png\n",
            "Writing to file LearnModelOutput/DND41_10_RefSeqTSS_neighborhood.svg\n",
            "Writing to file LearnModelOutput/DND41_10_RefSeqTES_neighborhood.txt\n",
            "Writing to file LearnModelOutput/DND41_10_RefSeqTES_neighborhood.png\n",
            "Writing to file LearnModelOutput/DND41_10_RefSeqTES_neighborhood.svg\n",
            "Warning could not automatically open in a browser LearnModelOutput/webpage_10.html\n"
          ]
        }
      ]
    },
    {
      "cell_type": "code",
      "source": [
        ""
      ],
      "metadata": {
        "id": "qIuS21xoPSlK"
      },
      "execution_count": null,
      "outputs": []
    },
    {
      "cell_type": "code",
      "source": [
        "from google.colab import drive\n",
        "drive.mount('/content/drive')"
      ],
      "metadata": {
        "colab": {
          "base_uri": "https://localhost:8080/"
        },
        "id": "4Nhb-45WPZrK",
        "outputId": "f023c57e-15f6-4877-b9a9-830c04aaa14d"
      },
      "execution_count": 2,
      "outputs": [
        {
          "output_type": "stream",
          "name": "stdout",
          "text": [
            "Mounted at /content/drive\n"
          ]
        }
      ]
    },
    {
      "cell_type": "code",
      "source": [
        "! mv '/content/LearnModelOutput'  '/content/drive/MyDrive'"
      ],
      "metadata": {
        "id": "odsHd9_XPaVu"
      },
      "execution_count": null,
      "outputs": []
    },
    {
      "cell_type": "code",
      "source": [
        ""
      ],
      "metadata": {
        "id": "ViH5iIOmPl7s"
      },
      "execution_count": null,
      "outputs": []
    },
    {
      "cell_type": "markdown",
      "source": [
        "# Бонусное задание"
      ],
      "metadata": {
        "id": "5TSrmtRq6QA2"
      }
    },
    {
      "cell_type": "code",
      "source": [
        "import numpy as np\n",
        "import pandas as pd"
      ],
      "metadata": {
        "id": "xQrFaFBZ6Raw"
      },
      "execution_count": 1,
      "outputs": []
    },
    {
      "cell_type": "markdown",
      "source": [
        "## Для dense файла"
      ],
      "metadata": {
        "id": "l4SYCQu5K1zz"
      }
    },
    {
      "cell_type": "code",
      "source": [
        "df = pd.read_csv('/content/drive/MyDrive/LearnModelOutput/DND41_10_dense.bed', delimiter='\\t', skiprows=1, names=range(9))\n",
        "df"
      ],
      "metadata": {
        "colab": {
          "base_uri": "https://localhost:8080/",
          "height": 0
        },
        "id": "uPj811oH6aSK",
        "outputId": "08f303da-5d1a-4502-b30f-267520c2b8ce"
      },
      "execution_count": 36,
      "outputs": [
        {
          "output_type": "execute_result",
          "data": {
            "text/plain": [
              "                                  0    1            2     3    4    5  \\\n",
              "0    browser position chr1:1-249251  NaN          NaN   NaN  NaN  NaN   \n",
              "1                              chr1  0.0  249250600.0  10.0  0.0    .   \n",
              "2                             chr10  0.0  135534600.0  10.0  0.0    .   \n",
              "3                             chr11  0.0  135006400.0  10.0  0.0    .   \n",
              "4                             chr12  0.0  133851800.0  10.0  0.0    .   \n",
              "..                              ...  ...          ...   ...  ...  ...   \n",
              "237                            chr7  0.0  159138600.0   1.0  0.0    .   \n",
              "238                            chr8  0.0  146364000.0   1.0  0.0    .   \n",
              "239                            chr9  0.0  141213400.0   1.0  0.0    .   \n",
              "240                            chrX  0.0  155270400.0   1.0  0.0    .   \n",
              "241                            chrY  0.0   59373400.0   1.0  0.0    .   \n",
              "\n",
              "              6            7            8  \n",
              "0           NaN          NaN          NaN  \n",
              "1       28400.0  249250600.0  204,153,255  \n",
              "2      173400.0  135534600.0  204,153,255  \n",
              "3      206600.0  135006400.0  204,153,255  \n",
              "4       73400.0  133851800.0  204,153,255  \n",
              "..          ...          ...          ...  \n",
              "237     16200.0  159138600.0      0,0,255  \n",
              "238     17200.0  146364000.0      0,0,255  \n",
              "239     30600.0  141213400.0      0,0,255  \n",
              "240    452000.0  155270400.0      0,0,255  \n",
              "241  19578600.0   59373400.0      0,0,255  \n",
              "\n",
              "[242 rows x 9 columns]"
            ],
            "text/html": [
              "\n",
              "  <div id=\"df-afb7e8a0-154b-4d3b-8bfd-d2d72e1336ef\">\n",
              "    <div class=\"colab-df-container\">\n",
              "      <div>\n",
              "<style scoped>\n",
              "    .dataframe tbody tr th:only-of-type {\n",
              "        vertical-align: middle;\n",
              "    }\n",
              "\n",
              "    .dataframe tbody tr th {\n",
              "        vertical-align: top;\n",
              "    }\n",
              "\n",
              "    .dataframe thead th {\n",
              "        text-align: right;\n",
              "    }\n",
              "</style>\n",
              "<table border=\"1\" class=\"dataframe\">\n",
              "  <thead>\n",
              "    <tr style=\"text-align: right;\">\n",
              "      <th></th>\n",
              "      <th>0</th>\n",
              "      <th>1</th>\n",
              "      <th>2</th>\n",
              "      <th>3</th>\n",
              "      <th>4</th>\n",
              "      <th>5</th>\n",
              "      <th>6</th>\n",
              "      <th>7</th>\n",
              "      <th>8</th>\n",
              "    </tr>\n",
              "  </thead>\n",
              "  <tbody>\n",
              "    <tr>\n",
              "      <th>0</th>\n",
              "      <td>browser position chr1:1-249251</td>\n",
              "      <td>NaN</td>\n",
              "      <td>NaN</td>\n",
              "      <td>NaN</td>\n",
              "      <td>NaN</td>\n",
              "      <td>NaN</td>\n",
              "      <td>NaN</td>\n",
              "      <td>NaN</td>\n",
              "      <td>NaN</td>\n",
              "    </tr>\n",
              "    <tr>\n",
              "      <th>1</th>\n",
              "      <td>chr1</td>\n",
              "      <td>0.0</td>\n",
              "      <td>249250600.0</td>\n",
              "      <td>10.0</td>\n",
              "      <td>0.0</td>\n",
              "      <td>.</td>\n",
              "      <td>28400.0</td>\n",
              "      <td>249250600.0</td>\n",
              "      <td>204,153,255</td>\n",
              "    </tr>\n",
              "    <tr>\n",
              "      <th>2</th>\n",
              "      <td>chr10</td>\n",
              "      <td>0.0</td>\n",
              "      <td>135534600.0</td>\n",
              "      <td>10.0</td>\n",
              "      <td>0.0</td>\n",
              "      <td>.</td>\n",
              "      <td>173400.0</td>\n",
              "      <td>135534600.0</td>\n",
              "      <td>204,153,255</td>\n",
              "    </tr>\n",
              "    <tr>\n",
              "      <th>3</th>\n",
              "      <td>chr11</td>\n",
              "      <td>0.0</td>\n",
              "      <td>135006400.0</td>\n",
              "      <td>10.0</td>\n",
              "      <td>0.0</td>\n",
              "      <td>.</td>\n",
              "      <td>206600.0</td>\n",
              "      <td>135006400.0</td>\n",
              "      <td>204,153,255</td>\n",
              "    </tr>\n",
              "    <tr>\n",
              "      <th>4</th>\n",
              "      <td>chr12</td>\n",
              "      <td>0.0</td>\n",
              "      <td>133851800.0</td>\n",
              "      <td>10.0</td>\n",
              "      <td>0.0</td>\n",
              "      <td>.</td>\n",
              "      <td>73400.0</td>\n",
              "      <td>133851800.0</td>\n",
              "      <td>204,153,255</td>\n",
              "    </tr>\n",
              "    <tr>\n",
              "      <th>...</th>\n",
              "      <td>...</td>\n",
              "      <td>...</td>\n",
              "      <td>...</td>\n",
              "      <td>...</td>\n",
              "      <td>...</td>\n",
              "      <td>...</td>\n",
              "      <td>...</td>\n",
              "      <td>...</td>\n",
              "      <td>...</td>\n",
              "    </tr>\n",
              "    <tr>\n",
              "      <th>237</th>\n",
              "      <td>chr7</td>\n",
              "      <td>0.0</td>\n",
              "      <td>159138600.0</td>\n",
              "      <td>1.0</td>\n",
              "      <td>0.0</td>\n",
              "      <td>.</td>\n",
              "      <td>16200.0</td>\n",
              "      <td>159138600.0</td>\n",
              "      <td>0,0,255</td>\n",
              "    </tr>\n",
              "    <tr>\n",
              "      <th>238</th>\n",
              "      <td>chr8</td>\n",
              "      <td>0.0</td>\n",
              "      <td>146364000.0</td>\n",
              "      <td>1.0</td>\n",
              "      <td>0.0</td>\n",
              "      <td>.</td>\n",
              "      <td>17200.0</td>\n",
              "      <td>146364000.0</td>\n",
              "      <td>0,0,255</td>\n",
              "    </tr>\n",
              "    <tr>\n",
              "      <th>239</th>\n",
              "      <td>chr9</td>\n",
              "      <td>0.0</td>\n",
              "      <td>141213400.0</td>\n",
              "      <td>1.0</td>\n",
              "      <td>0.0</td>\n",
              "      <td>.</td>\n",
              "      <td>30600.0</td>\n",
              "      <td>141213400.0</td>\n",
              "      <td>0,0,255</td>\n",
              "    </tr>\n",
              "    <tr>\n",
              "      <th>240</th>\n",
              "      <td>chrX</td>\n",
              "      <td>0.0</td>\n",
              "      <td>155270400.0</td>\n",
              "      <td>1.0</td>\n",
              "      <td>0.0</td>\n",
              "      <td>.</td>\n",
              "      <td>452000.0</td>\n",
              "      <td>155270400.0</td>\n",
              "      <td>0,0,255</td>\n",
              "    </tr>\n",
              "    <tr>\n",
              "      <th>241</th>\n",
              "      <td>chrY</td>\n",
              "      <td>0.0</td>\n",
              "      <td>59373400.0</td>\n",
              "      <td>1.0</td>\n",
              "      <td>0.0</td>\n",
              "      <td>.</td>\n",
              "      <td>19578600.0</td>\n",
              "      <td>59373400.0</td>\n",
              "      <td>0,0,255</td>\n",
              "    </tr>\n",
              "  </tbody>\n",
              "</table>\n",
              "<p>242 rows × 9 columns</p>\n",
              "</div>\n",
              "      <button class=\"colab-df-convert\" onclick=\"convertToInteractive('df-afb7e8a0-154b-4d3b-8bfd-d2d72e1336ef')\"\n",
              "              title=\"Convert this dataframe to an interactive table.\"\n",
              "              style=\"display:none;\">\n",
              "        \n",
              "  <svg xmlns=\"http://www.w3.org/2000/svg\" height=\"24px\"viewBox=\"0 0 24 24\"\n",
              "       width=\"24px\">\n",
              "    <path d=\"M0 0h24v24H0V0z\" fill=\"none\"/>\n",
              "    <path d=\"M18.56 5.44l.94 2.06.94-2.06 2.06-.94-2.06-.94-.94-2.06-.94 2.06-2.06.94zm-11 1L8.5 8.5l.94-2.06 2.06-.94-2.06-.94L8.5 2.5l-.94 2.06-2.06.94zm10 10l.94 2.06.94-2.06 2.06-.94-2.06-.94-.94-2.06-.94 2.06-2.06.94z\"/><path d=\"M17.41 7.96l-1.37-1.37c-.4-.4-.92-.59-1.43-.59-.52 0-1.04.2-1.43.59L10.3 9.45l-7.72 7.72c-.78.78-.78 2.05 0 2.83L4 21.41c.39.39.9.59 1.41.59.51 0 1.02-.2 1.41-.59l7.78-7.78 2.81-2.81c.8-.78.8-2.07 0-2.86zM5.41 20L4 18.59l7.72-7.72 1.47 1.35L5.41 20z\"/>\n",
              "  </svg>\n",
              "      </button>\n",
              "      \n",
              "  <style>\n",
              "    .colab-df-container {\n",
              "      display:flex;\n",
              "      flex-wrap:wrap;\n",
              "      gap: 12px;\n",
              "    }\n",
              "\n",
              "    .colab-df-convert {\n",
              "      background-color: #E8F0FE;\n",
              "      border: none;\n",
              "      border-radius: 50%;\n",
              "      cursor: pointer;\n",
              "      display: none;\n",
              "      fill: #1967D2;\n",
              "      height: 32px;\n",
              "      padding: 0 0 0 0;\n",
              "      width: 32px;\n",
              "    }\n",
              "\n",
              "    .colab-df-convert:hover {\n",
              "      background-color: #E2EBFA;\n",
              "      box-shadow: 0px 1px 2px rgba(60, 64, 67, 0.3), 0px 1px 3px 1px rgba(60, 64, 67, 0.15);\n",
              "      fill: #174EA6;\n",
              "    }\n",
              "\n",
              "    [theme=dark] .colab-df-convert {\n",
              "      background-color: #3B4455;\n",
              "      fill: #D2E3FC;\n",
              "    }\n",
              "\n",
              "    [theme=dark] .colab-df-convert:hover {\n",
              "      background-color: #434B5C;\n",
              "      box-shadow: 0px 1px 3px 1px rgba(0, 0, 0, 0.15);\n",
              "      filter: drop-shadow(0px 1px 2px rgba(0, 0, 0, 0.3));\n",
              "      fill: #FFFFFF;\n",
              "    }\n",
              "  </style>\n",
              "\n",
              "      <script>\n",
              "        const buttonEl =\n",
              "          document.querySelector('#df-afb7e8a0-154b-4d3b-8bfd-d2d72e1336ef button.colab-df-convert');\n",
              "        buttonEl.style.display =\n",
              "          google.colab.kernel.accessAllowed ? 'block' : 'none';\n",
              "\n",
              "        async function convertToInteractive(key) {\n",
              "          const element = document.querySelector('#df-afb7e8a0-154b-4d3b-8bfd-d2d72e1336ef');\n",
              "          const dataTable =\n",
              "            await google.colab.kernel.invokeFunction('convertToInteractive',\n",
              "                                                     [key], {});\n",
              "          if (!dataTable) return;\n",
              "\n",
              "          const docLinkHtml = 'Like what you see? Visit the ' +\n",
              "            '<a target=\"_blank\" href=https://colab.research.google.com/notebooks/data_table.ipynb>data table notebook</a>'\n",
              "            + ' to learn more about interactive tables.';\n",
              "          element.innerHTML = '';\n",
              "          dataTable['output_type'] = 'display_data';\n",
              "          await google.colab.output.renderOutput(dataTable, element);\n",
              "          const docLink = document.createElement('div');\n",
              "          docLink.innerHTML = docLinkHtml;\n",
              "          element.appendChild(docLink);\n",
              "        }\n",
              "      </script>\n",
              "    </div>\n",
              "  </div>\n",
              "  "
            ]
          },
          "metadata": {},
          "execution_count": 36
        }
      ]
    },
    {
      "cell_type": "code",
      "source": [
        "for i in range(len(df[3])):\n",
        "  if (df[3][i] == 1) or (df[3][i] == 2):\n",
        "    df[3][i] = 'Repressed_heterochromatin'\n",
        "  elif (df[3][i] == 3):\n",
        "    df[3][i] = 'Repetitive'\n",
        "  elif (df[3][i] == 4) or (df[3][i] == 6):\n",
        "    df[3][i] = 'Transcribed_5′_Distal'\n",
        "  elif (df[3][i] == 5):\n",
        "    df[3][i] = 'Transcribed_less_5′_proximal_med_expr' \n",
        "  elif (df[3][i] == 7):\n",
        "    df[3][i] = 'Transcribed_5′_proximal_higher_expr' \n",
        "  elif (df[3][i] == 8):\n",
        "    df[3][i] = 'Transcribed_promoter_highest_expr' \n",
        "  elif (df[3][i] == 9) or (df[3][i] == 10):\n",
        "    df[3][i] = 'Promoter' "
      ],
      "metadata": {
        "colab": {
          "base_uri": "https://localhost:8080/"
        },
        "id": "zwD0Y_-6-q7q",
        "outputId": "086ed7b8-21d5-4778-ba8d-81ecc78ea942"
      },
      "execution_count": 33,
      "outputs": [
        {
          "output_type": "stream",
          "name": "stderr",
          "text": [
            "/usr/local/lib/python3.7/dist-packages/ipykernel_launcher.py:3: SettingWithCopyWarning: \n",
            "A value is trying to be set on a copy of a slice from a DataFrame\n",
            "\n",
            "See the caveats in the documentation: https://pandas.pydata.org/pandas-docs/stable/user_guide/indexing.html#returning-a-view-versus-a-copy\n",
            "  This is separate from the ipykernel package so we can avoid doing imports until\n",
            "/usr/local/lib/python3.7/dist-packages/pandas/core/indexing.py:1732: SettingWithCopyWarning: \n",
            "A value is trying to be set on a copy of a slice from a DataFrame\n",
            "\n",
            "See the caveats in the documentation: https://pandas.pydata.org/pandas-docs/stable/user_guide/indexing.html#returning-a-view-versus-a-copy\n",
            "  self._setitem_single_block(indexer, value, name)\n"
          ]
        }
      ]
    },
    {
      "cell_type": "code",
      "source": [
        "df"
      ],
      "metadata": {
        "colab": {
          "base_uri": "https://localhost:8080/",
          "height": 0
        },
        "id": "C-60ZVBx_9Gu",
        "outputId": "61414e42-aa0a-4c6a-936d-c601e82dbbf4"
      },
      "execution_count": 34,
      "outputs": [
        {
          "output_type": "execute_result",
          "data": {
            "text/plain": [
              "            0         1         2                          3  4  5         6  \\\n",
              "0       chr10         0     74000  Repressed_heterochromatin  0  .         0   \n",
              "1       chr10     74000     74400                 Repetitive  0  .     74000   \n",
              "2       chr10     74400    103200  Repressed_heterochromatin  0  .     74400   \n",
              "3       chr10    103200    104400                 Repetitive  0  .    103200   \n",
              "4       chr10    104400    114200  Repressed_heterochromatin  0  .    104400   \n",
              "...       ...       ...       ...                        ... .. ..       ...   \n",
              "391166   chrY  59001400  59002200                   Promoter  0  .  59001400   \n",
              "391167   chrY  59002200  59002600                   Promoter  0  .  59002200   \n",
              "391168   chrY  59002600  59003000  Repressed_heterochromatin  0  .  59002600   \n",
              "391169   chrY  59003000  59033000                 Repetitive  0  .  59003000   \n",
              "391170   chrY  59033000  59373400  Repressed_heterochromatin  0  .  59033000   \n",
              "\n",
              "               7            8  \n",
              "0          74000    0,153,204  \n",
              "1          74400   51,255,153  \n",
              "2         103200    0,153,204  \n",
              "3         104400   51,255,153  \n",
              "4         114200    0,153,204  \n",
              "...          ...          ...  \n",
              "391166  59002200  204,153,255  \n",
              "391167  59002600    255,255,0  \n",
              "391168  59003000    0,153,204  \n",
              "391169  59033000   51,255,153  \n",
              "391170  59373400    0,153,204  \n",
              "\n",
              "[391171 rows x 9 columns]"
            ],
            "text/html": [
              "\n",
              "  <div id=\"df-430cccaf-e246-4eb7-bea3-ae062448a5c2\">\n",
              "    <div class=\"colab-df-container\">\n",
              "      <div>\n",
              "<style scoped>\n",
              "    .dataframe tbody tr th:only-of-type {\n",
              "        vertical-align: middle;\n",
              "    }\n",
              "\n",
              "    .dataframe tbody tr th {\n",
              "        vertical-align: top;\n",
              "    }\n",
              "\n",
              "    .dataframe thead th {\n",
              "        text-align: right;\n",
              "    }\n",
              "</style>\n",
              "<table border=\"1\" class=\"dataframe\">\n",
              "  <thead>\n",
              "    <tr style=\"text-align: right;\">\n",
              "      <th></th>\n",
              "      <th>0</th>\n",
              "      <th>1</th>\n",
              "      <th>2</th>\n",
              "      <th>3</th>\n",
              "      <th>4</th>\n",
              "      <th>5</th>\n",
              "      <th>6</th>\n",
              "      <th>7</th>\n",
              "      <th>8</th>\n",
              "    </tr>\n",
              "  </thead>\n",
              "  <tbody>\n",
              "    <tr>\n",
              "      <th>0</th>\n",
              "      <td>chr10</td>\n",
              "      <td>0</td>\n",
              "      <td>74000</td>\n",
              "      <td>Repressed_heterochromatin</td>\n",
              "      <td>0</td>\n",
              "      <td>.</td>\n",
              "      <td>0</td>\n",
              "      <td>74000</td>\n",
              "      <td>0,153,204</td>\n",
              "    </tr>\n",
              "    <tr>\n",
              "      <th>1</th>\n",
              "      <td>chr10</td>\n",
              "      <td>74000</td>\n",
              "      <td>74400</td>\n",
              "      <td>Repetitive</td>\n",
              "      <td>0</td>\n",
              "      <td>.</td>\n",
              "      <td>74000</td>\n",
              "      <td>74400</td>\n",
              "      <td>51,255,153</td>\n",
              "    </tr>\n",
              "    <tr>\n",
              "      <th>2</th>\n",
              "      <td>chr10</td>\n",
              "      <td>74400</td>\n",
              "      <td>103200</td>\n",
              "      <td>Repressed_heterochromatin</td>\n",
              "      <td>0</td>\n",
              "      <td>.</td>\n",
              "      <td>74400</td>\n",
              "      <td>103200</td>\n",
              "      <td>0,153,204</td>\n",
              "    </tr>\n",
              "    <tr>\n",
              "      <th>3</th>\n",
              "      <td>chr10</td>\n",
              "      <td>103200</td>\n",
              "      <td>104400</td>\n",
              "      <td>Repetitive</td>\n",
              "      <td>0</td>\n",
              "      <td>.</td>\n",
              "      <td>103200</td>\n",
              "      <td>104400</td>\n",
              "      <td>51,255,153</td>\n",
              "    </tr>\n",
              "    <tr>\n",
              "      <th>4</th>\n",
              "      <td>chr10</td>\n",
              "      <td>104400</td>\n",
              "      <td>114200</td>\n",
              "      <td>Repressed_heterochromatin</td>\n",
              "      <td>0</td>\n",
              "      <td>.</td>\n",
              "      <td>104400</td>\n",
              "      <td>114200</td>\n",
              "      <td>0,153,204</td>\n",
              "    </tr>\n",
              "    <tr>\n",
              "      <th>...</th>\n",
              "      <td>...</td>\n",
              "      <td>...</td>\n",
              "      <td>...</td>\n",
              "      <td>...</td>\n",
              "      <td>...</td>\n",
              "      <td>...</td>\n",
              "      <td>...</td>\n",
              "      <td>...</td>\n",
              "      <td>...</td>\n",
              "    </tr>\n",
              "    <tr>\n",
              "      <th>391166</th>\n",
              "      <td>chrY</td>\n",
              "      <td>59001400</td>\n",
              "      <td>59002200</td>\n",
              "      <td>Promoter</td>\n",
              "      <td>0</td>\n",
              "      <td>.</td>\n",
              "      <td>59001400</td>\n",
              "      <td>59002200</td>\n",
              "      <td>204,153,255</td>\n",
              "    </tr>\n",
              "    <tr>\n",
              "      <th>391167</th>\n",
              "      <td>chrY</td>\n",
              "      <td>59002200</td>\n",
              "      <td>59002600</td>\n",
              "      <td>Promoter</td>\n",
              "      <td>0</td>\n",
              "      <td>.</td>\n",
              "      <td>59002200</td>\n",
              "      <td>59002600</td>\n",
              "      <td>255,255,0</td>\n",
              "    </tr>\n",
              "    <tr>\n",
              "      <th>391168</th>\n",
              "      <td>chrY</td>\n",
              "      <td>59002600</td>\n",
              "      <td>59003000</td>\n",
              "      <td>Repressed_heterochromatin</td>\n",
              "      <td>0</td>\n",
              "      <td>.</td>\n",
              "      <td>59002600</td>\n",
              "      <td>59003000</td>\n",
              "      <td>0,153,204</td>\n",
              "    </tr>\n",
              "    <tr>\n",
              "      <th>391169</th>\n",
              "      <td>chrY</td>\n",
              "      <td>59003000</td>\n",
              "      <td>59033000</td>\n",
              "      <td>Repetitive</td>\n",
              "      <td>0</td>\n",
              "      <td>.</td>\n",
              "      <td>59003000</td>\n",
              "      <td>59033000</td>\n",
              "      <td>51,255,153</td>\n",
              "    </tr>\n",
              "    <tr>\n",
              "      <th>391170</th>\n",
              "      <td>chrY</td>\n",
              "      <td>59033000</td>\n",
              "      <td>59373400</td>\n",
              "      <td>Repressed_heterochromatin</td>\n",
              "      <td>0</td>\n",
              "      <td>.</td>\n",
              "      <td>59033000</td>\n",
              "      <td>59373400</td>\n",
              "      <td>0,153,204</td>\n",
              "    </tr>\n",
              "  </tbody>\n",
              "</table>\n",
              "<p>391171 rows × 9 columns</p>\n",
              "</div>\n",
              "      <button class=\"colab-df-convert\" onclick=\"convertToInteractive('df-430cccaf-e246-4eb7-bea3-ae062448a5c2')\"\n",
              "              title=\"Convert this dataframe to an interactive table.\"\n",
              "              style=\"display:none;\">\n",
              "        \n",
              "  <svg xmlns=\"http://www.w3.org/2000/svg\" height=\"24px\"viewBox=\"0 0 24 24\"\n",
              "       width=\"24px\">\n",
              "    <path d=\"M0 0h24v24H0V0z\" fill=\"none\"/>\n",
              "    <path d=\"M18.56 5.44l.94 2.06.94-2.06 2.06-.94-2.06-.94-.94-2.06-.94 2.06-2.06.94zm-11 1L8.5 8.5l.94-2.06 2.06-.94-2.06-.94L8.5 2.5l-.94 2.06-2.06.94zm10 10l.94 2.06.94-2.06 2.06-.94-2.06-.94-.94-2.06-.94 2.06-2.06.94z\"/><path d=\"M17.41 7.96l-1.37-1.37c-.4-.4-.92-.59-1.43-.59-.52 0-1.04.2-1.43.59L10.3 9.45l-7.72 7.72c-.78.78-.78 2.05 0 2.83L4 21.41c.39.39.9.59 1.41.59.51 0 1.02-.2 1.41-.59l7.78-7.78 2.81-2.81c.8-.78.8-2.07 0-2.86zM5.41 20L4 18.59l7.72-7.72 1.47 1.35L5.41 20z\"/>\n",
              "  </svg>\n",
              "      </button>\n",
              "      \n",
              "  <style>\n",
              "    .colab-df-container {\n",
              "      display:flex;\n",
              "      flex-wrap:wrap;\n",
              "      gap: 12px;\n",
              "    }\n",
              "\n",
              "    .colab-df-convert {\n",
              "      background-color: #E8F0FE;\n",
              "      border: none;\n",
              "      border-radius: 50%;\n",
              "      cursor: pointer;\n",
              "      display: none;\n",
              "      fill: #1967D2;\n",
              "      height: 32px;\n",
              "      padding: 0 0 0 0;\n",
              "      width: 32px;\n",
              "    }\n",
              "\n",
              "    .colab-df-convert:hover {\n",
              "      background-color: #E2EBFA;\n",
              "      box-shadow: 0px 1px 2px rgba(60, 64, 67, 0.3), 0px 1px 3px 1px rgba(60, 64, 67, 0.15);\n",
              "      fill: #174EA6;\n",
              "    }\n",
              "\n",
              "    [theme=dark] .colab-df-convert {\n",
              "      background-color: #3B4455;\n",
              "      fill: #D2E3FC;\n",
              "    }\n",
              "\n",
              "    [theme=dark] .colab-df-convert:hover {\n",
              "      background-color: #434B5C;\n",
              "      box-shadow: 0px 1px 3px 1px rgba(0, 0, 0, 0.15);\n",
              "      filter: drop-shadow(0px 1px 2px rgba(0, 0, 0, 0.3));\n",
              "      fill: #FFFFFF;\n",
              "    }\n",
              "  </style>\n",
              "\n",
              "      <script>\n",
              "        const buttonEl =\n",
              "          document.querySelector('#df-430cccaf-e246-4eb7-bea3-ae062448a5c2 button.colab-df-convert');\n",
              "        buttonEl.style.display =\n",
              "          google.colab.kernel.accessAllowed ? 'block' : 'none';\n",
              "\n",
              "        async function convertToInteractive(key) {\n",
              "          const element = document.querySelector('#df-430cccaf-e246-4eb7-bea3-ae062448a5c2');\n",
              "          const dataTable =\n",
              "            await google.colab.kernel.invokeFunction('convertToInteractive',\n",
              "                                                     [key], {});\n",
              "          if (!dataTable) return;\n",
              "\n",
              "          const docLinkHtml = 'Like what you see? Visit the ' +\n",
              "            '<a target=\"_blank\" href=https://colab.research.google.com/notebooks/data_table.ipynb>data table notebook</a>'\n",
              "            + ' to learn more about interactive tables.';\n",
              "          element.innerHTML = '';\n",
              "          dataTable['output_type'] = 'display_data';\n",
              "          await google.colab.output.renderOutput(dataTable, element);\n",
              "          const docLink = document.createElement('div');\n",
              "          docLink.innerHTML = docLinkHtml;\n",
              "          element.appendChild(docLink);\n",
              "        }\n",
              "      </script>\n",
              "    </div>\n",
              "  </div>\n",
              "  "
            ]
          },
          "metadata": {},
          "execution_count": 34
        }
      ]
    },
    {
      "cell_type": "code",
      "source": [
        "np.savetxt('/content/drive/MyDrive/LearnModelOutput/NEW_DND41_10_dense.bed', df.values, fmt=\"%s\")"
      ],
      "metadata": {
        "id": "I9Vcv7QiAIc7"
      },
      "execution_count": 35,
      "outputs": []
    },
    {
      "cell_type": "code",
      "source": [
        ""
      ],
      "metadata": {
        "id": "PJnHS9b5BVgd"
      },
      "execution_count": null,
      "outputs": []
    },
    {
      "cell_type": "markdown",
      "source": [
        "## Для expanded файла"
      ],
      "metadata": {
        "id": "AR2vNQXzK4g5"
      }
    },
    {
      "cell_type": "code",
      "source": [
        "with open('/content/drive/MyDrive/LearnModelOutput/DND41_10_expanded.bed', 'r') as f:\n",
        "    nums = f.read().splitlines()"
      ],
      "metadata": {
        "id": "N32SnZ_-K55U"
      },
      "execution_count": 58,
      "outputs": []
    },
    {
      "cell_type": "code",
      "source": [
        "a = nums[2].split('\\t') # [3] - состояние"
      ],
      "metadata": {
        "id": "q60_Kzk-LFRZ"
      },
      "execution_count": 59,
      "outputs": []
    },
    {
      "cell_type": "code",
      "source": [
        "'\\t'.join(a)"
      ],
      "metadata": {
        "colab": {
          "base_uri": "https://localhost:8080/",
          "height": 157
        },
        "id": "-B39k0hCL-_D",
        "outputId": "0c7bdd86-a3b8-45cc-b4c3-886ffe98507d"
      },
      "execution_count": 60,
      "outputs": [
        {
          "output_type": "execute_result",
          "data": {
            "text/plain": [
              "'chr1\\t0\\t249250600\\t10\\t0\\t.\\t28400\\t249250600\\t204,153,255\\t2062\\t0,2000,1200,1200,2400,2000,1400,1800,400,1000,200,3400,800,800,2400,800,1000,200,200,600,1200,1600,1000,800,600,1000,2200,1600,800,400,2200,1800,1400,2200,1200,2400,2000,1800,1000,1800,2600,200,2000,3000,1800,2600,1000,200,600,200,1200,2200,400,600,600,1800,1400,600,1600,3000,1800,200,3000,1800,2800,1800,1800,1400,2400,1000,1800,1600,1600,2000,400,200,1600,2600,2800,1800,1400,1200,2200,1400,2600,800,1600,1400,2600,2600,1400,1200,1600,600,1400,1600,2400,600,1800,200,1200,1200,2200,2400,800,3400,200,600,3000,1400,2400,400,800,800,1600,200,1400,2200,400,400,400,1600,800,1800,1800,1600,3000,2000,800,1200,200,1000,400,200,1000,1000,2800,400,1800,2400,1200,2000,2000,1600,1800,1200,2200,1800,400,400,1000,400,1600,800,1200,1600,1800,400,1400,1600,1000,1000,2200,2400,800,800,1600,2600,1400,1200,1400,1600,2200,2000,400,400,2000,1000,1800,1200,4000,400,200,800,2200,2000,1400,1800,800,2800,400,1800,400,1800,600,4800,2000,1800,4000,4000,1800,200,200,2000,2000,2400,1600,1800,2200,2400,2000,2200,2200,2200,2400,1800,800,2000,1000,1600,1200,3000,600,2200,1800,2200,2600,2000,2800,1200,600,1400,2200,1400,200,1400,2200,2400,1000,1000,1600,400,1800,1600,800,2000,400,1400,800,2200,2800,600,2000,2000,600,2200,1600,800,200,600,1000,3200,600,1200,2200,200,1200,2400,200,400,600,1000,2000,1600,2000,2600,1600,1000,1800,2000,2000,400,2200,200,1800,800,1800,1000,1200,400,1400,1000,3200,400,200,200,200,200,1800,1600,2200,1800,2800,200,2600,1200,400,1000,2400,2000,2000,200,800,1800,1800,1400,600,2000,2800,1800,400,1800,400,1800,1600,1800,200,200,1600,1400,2000,1800,1400,1000,1600,5800,3800,1800,2200,1600,1600,1600,400,2000,2000,1800,600,2000,2400,1600,2400,200,600,1000,400,2000,1000,400,1600,800,1400,2200,2000,1200,1600,1800,1600,1600,1600,3200,1600,2000,1800,400,1400,1800,2000,1200,600,2800,1200,800,1200,2000,600,200,1400,2200,1400,1200,1600,1800,1400,800,1800,1600,1400,600,2200,1200,800,600,200,3400,1000,200,1200,2200,1000,2400,1600,600,800,800,600,2000,1000,600,2800,2000,1600,1800,2800,1400,1800,3200,1600,1800,1400,1800,1800,1200,400,1800,1400,800,200,200,3200,600,2200,1200,1800,1000,2600,1800,600,1200,800,1200,1600,2000,600,2200,2600,1400,1800,200,2000,2400,200,1800,2000,1800,2000,2000,2000,1400,2400,2200,1600,2400,1200,2200,2000,1400,800,2600,1600,1400,2200,1600,1800,1000,1400,3600,1800,2200,2200,1600,1600,1200,200,2200,1400,2000,2200,2000,1600,1800,400,200,2600,1000,2200,400,200,800,1600,200,1400,1000,1200,200,2000,2200,1400,200,1200,2000,600,2000,600,2600,1600,2000,2400,200,3000,400,2200,400,1400,2000,1200,1800,400,800,1800,1400,600,200,2600,3200,2600,1800,2600,2200,2000,1600,600,2000,2400,2600,2200,2000,2400,2000,1600,800,2000,2400,1600,2400,1800,1800,3000,2000,1200,2200,200,200,1400,2600,2200,1600,2000,1600,200,400,1800,1600,1800,1000,1800,200,1200,2000,3800,600,1400,2200,1000,2000,2200,2400,2000,800,1200,2000,3600,400,1800,1800,800,800,3600,2200,1200,2000,3400,2000,600,400,2400,1800,2000,1800,1000,2000,2600,2600,600,600,3200,400,2400,2200,4600,200,600,2600,800,2000,1800,1000,2400,1400,3800,2400,2000,1000,2400,2000,3000,2200,1400,1600,1200,1600,1600,1800,2200,1600,2000,1400,2000,2000,1200,1600,3600,400,2200,1600,3400,1000,1800,400,2000,1200,1200,200,1800,2200,2200,2400,400,800,3200,200,2200,1400,1200,1400,400,4600,1200,1200,400,1200,200,800,2400,200,400,200,200,2000,1000,1400,3200,2000,2200,2000,2200,2000,2000,2800,2200,2400,800,1200,2400,2000,1000,2800,400,2600,600,2600,200,1200,200,600,2600,1800,1400,2400,2200,1800,200,200,200,1200,200,5600,400,200,200,800,600,2400,800,2600,1600,2800,3000,400,200,200,2800,3000,1800,1800,2000,2200,4000,200,200,1400,400,2200,400,400,400,800,600,400,400,1200,200,2400,3200,2000,2800,800,200,1600,2800,2400,800,2200,1200,800,400,800,1200,1800,1200,2000,3000,2200,600,2800,1000,1400,200,2600,1800,2800,2400,2800,2400,2400,1400,200,1200,4000,1200,2600,200,1000,1000,1000,2000,400,2200,1400,400,600,2800,400,2400,1000,1800,1200,1200,1800,200,200,1000,2200,200,1000,200,2400,1600,2000,1600,600,400,3400,600,400,600,800,1200,1400,1200,2000,1400,600,600,2600,200,200,200,400,1200,2000,1200,2800,800,2200,2400,3400,1400,2200,400,200,1000,1000,800,1000,2400,1400,200,600,200,1000,2400,1600,400,2000,1400,3800,1200,1600,600,600,800,800,200,400,1400,800,2000,200,200,2600,1800,3200,1800,2000,2200,3000,1000,1000,400,3200,2000,600,600,1800,2600,800,200,400,600,200,600,1600,200,600,1200,400,1000,400,600,200,400,400,2000,400,200,400,200,1800,2200,400,600,600,800,200,1000,600,200,400,1000,4000,400,200,800,800,2600,2600,800,3000,2400,1600,1600,1400,1600,400,2200,2600,1400,1600,1600,2400,2000,2600,800,1200,200,1200,400,600,3200,2600,1000,200,200,3400,1200,2400,2200,2000,1000,600,2200,400,4200,2000,3600,600,2200,2000,4400,200,3000,1800,400,1000,200,1000,1400,200,2200,600,400,1200,800,2400,2600,2200,400,2000,800,3000,2200,1800,1400,200,1800,600,2600,200,2000,2800,200,3200,1200,2400,2600,2200,2400,800,2600,1800,1400,1800,1200,1800,200,1600,800,400,600,1800,1800,2000,1800,400,1200,1200,1800,2800,3400,2800,800,400,200,800,200,800,2200,2600,600,1800,200,1200,2200,800,200,1000,2000,1800,1000,1200,1600,1200,200,400,600,2200,200,800,1600,200,3400,400,1800,2200,1000,200,1800,3200,200,1200,200,200,3600,400,800,1800,200,600,200,5600,1200,1600,400,600,400,1000,2600,1200,4800,400,2000,800,200,1600,3200,2200,1800,2600,800,2400,1400,2200,600,1600,1000,1800,2000,800,2800,1400,2400,2000,1200,1000,2200,1600,600,1800,200,600,800,1000,1400,2800,600,200,1400,200,600,1200,3000,200,1200,1000,600,600,1400,1200,1400,1200,1200,2800,1200,1800,3400,4400,3600,5000,400,2200,400,400,1400,2200,1800,2000,3200,200,1400,3000,1600,2000,1600,3800,1400,1800,2000,1200,1800,2200,1600,600,2200,1400,2000,200,1400,1800,1400,3200,2200,1800,1600,2200,2200,2000,1200,2400,1800,2000,1400,2600,2000,2000,1800,2000,1000,200,400,400,200,400,2200,1000,1800,3400,1400,200,200,1800,2400,2600,1800,1400,1000,1400,2400,1600,1800,2800,2400,200,1200,1800,1000,1000,2800,2400,2200,800,1200,2200,2400,3000,400,2200,1600,2200,2200,200,200,600,1800,800,200,200,2200,1200,2600,1400,2200,600,2800,1800,800,2200,1800,1200,600,1200,2000,1800,1400,2000,2200,3200,2600,600,1800,2000,2400,2000,1800,1600,1200,1400,800,2000,1400,2800,2200,1400,1600,2000,1400,2200,200,1800,2600,1600,2000,2000,400,1800,2200,1400,2400,1000,600,3000,2800,1200,400,400,2200,400,800,400,200,2000,1200,1600,200,5200,2600,1200,400,3400,1000,2600,400,800,1000,600,6200,800,1400,200,4600,2600,2400,1600,800,400,400,1200,2400,1600,2200,2200,1000,200,1400,600,1800,1600,200,1200,6000,400,200,200,1200,400,1200,2800,2000,1200,2000,2600,1800,1400,3000,1600,1600,400,2000,1000,1400,1800,2800,1800,2600,400,400,2000,2200,1600,2200,600,1200,1400,2200,1800,2400,200,1200,1400,2400,200,1800,1800,2200,800,800,1200,1600,2200,1800,600,2000,1400,400,400,1000,400,800,1600,1800,600,800,2400,1800,1400,4000,3200,400,2000,200,200,3000,400,2800,200,2000,2000,600,1000,400,200,600,800,200,1600,3200,400,2400,1600,2400,200,600,400,600,400,800,200,2000,200,2400,2200,1200,2000,1800,600,800,800,2400,800,600,1800,1400,2200,400,200,2800,1000,800,1000,1000,2200,2800,1600,400,400,1000,200,600,200,400,200,200,400,1200,1200,5000,600,2600,400,2200,2600,200,2000,2000,2200,1600,1000,1200,400,1400,2800,1600,1200,1200,1400,2600,1200,1800,2400,800,2400,2400,1000,400,1800,2000,600,1800,1400,1400,1400,2800,2200,2400,800,2200,1000,2000,1000,1600,2000,1800,2400,1200,2400,1400,1000,600,1200,2000,200,200,1600,1200,1600,1800,1600,200,3800,600,2400,2400,2600,600,2800,1000,1800,3600,400,2400,800,2200,1000,1600,600,800,200,400,600,400,2600,200,1000,1000,1600,200,400,800,1000,200,600,200,400,1600,2400,400,1600,2600,2400,2000,800,800,200,4600,2400,2600,200,1200,3200,200,2000,1600,1000,400,400,4200,400,400,2200,3400,1800,400,600,200,1000,1400,1800,1400,3200,3600,2600,800,400,400,400,600,1200,1200,200,400,400,600,600,600,1200,200,200,800,1000,1800,600,1200,200,2000,2800,2400,400,2000,600,1000,2000,2400,2000,1800,400,2000,2000,2200,2400,2200,200,2200,400,2000,1600,1600,2600,800,1400,600,200,2000,600,1400,1200,4400,400,2000,1600,2000,200,800,1000,800,400,200,2200,2600,2200,1200,400,600,1800,200,2000,1800,1800,1200,2200,1000,800,2000,2800,400,1800,2400,2200,3200,400,1600,2000,2000,1600,4000,800,1600,1600,1200,1800,1400,1000,600,600,400,2200,400,200,1600,200,1600,800,1000,1000,1800,1200,1400,400,200,2400,3600,1600,2000,800,2200,1200,600,3800,1400,400,1800,600,1600,2200,2000,400,2000,3400,1800,1800,1200,1200,1200,2400,200,1000,200,2000,2000,600,2600,2000,2200,200,2000,200,2400,1600,400,2600,2000,2000,600,1400,1600,200,2200,200,2800,1600,200,800,1800,200,600,3800,200,800,1000,1800,800,1000,1800,3200,1800,1600,1200,600,400,1200,200,2000,400,200,1200,1200,200,200,2800,1800,600,2000,1400,2000,1600,2400,200,600,1200,200,400,2400,400,600,600,200,2800,1400,1600,2400,2000,1000,3400,2000,2200,1400,1200,1400,2000,2200,1600,2000,600,1600,200,1000,400,2000,1400,1800,2200,2800,1800,1800,2000,400,200,1600,2000,1800,2200,2200,1200,600,1600,2400,600,400,400,1400,200,600,800,1800,200,800,3400,2000,2600,2600,1200,600,1000,800,1800,200,3000,200,200,200,1200,800,2200,2600,1800,600,2600,2200,3200,1800,600,800,2000,400,1400,200,1400,200,2600,400,2400,200,600,2200,1000,1400,1600,1400,400,1000,4000,400,1600,400,2600,200,2400,600,800,2200,1400,3600,800,400,1200,800,1200,800,1000,1400,2000,1200,1000,1200,600,1800,1600,2200,800,3000,800,2600,2400,2600,1200,2600,2200,1600,200,2400,400,5400,1200,200,2400,1400,2200,2200,200,1200,400,3200,1400,1600,200,1000,1200,3400,200,1400,1000,1600,600,2600,1000,2600,4400,1400,1200,1200,200,3200,1000,200,400,1000,1800,2000,400,800,2200,200,2400,1400,1600,1600,1200,1400,1200,2400,200,400,1200,400,1600,1600,2000,2200,3000,1400,1800,1200,800,1\\t0,28400,441400,540400,712800,762000,776600,839200,856600,858600,876000,894000,902000,911200,948200,954400,955400,968200,968600,975600,994200,1050800,1166400,1167600,1208600,1209400,1242400,1259200,1284000,1285000,1310000,1334000,1342000,1405800,1440000,1446200,1509200,1550200,1565400,1589800,1622800,1626400,1655000,1676000,1709200,1821200,1839600,1840800,1850200,1851200,2064000,2125000,2136800,2158800,2160200,2221200,2231800,2246800,2322200,2343000,2457000,2477400,2477800,2487000,2516600,2573200,3446600,3527400,3540000,3566000,3568000,3712400,3773000,3816000,3819400,3820400,6034800,6051400,6086000,6259000,6295200,6319800,6452400,6519800,6549600,6557600,6613800,6639400,6661200,6672600,6684800,6761400,6843600,6846000,7830800,8013600,8020400,8455600,8482600,8487400,8576400,8585200,8761800,8876400,8889400,8937400,9182600,9186200,9187000,9261200,9294200,9300000,9304400,9339000,9352400,9458000,9472800,9476400,9479600,9485800,9486600,9488400,9555200,9598800,9648200,9686600,9688400,9710800,9749000,9777200,9848000,9883000,9884200,9935200,9969200,9970600,10002000,10092400,10093000,10269600,10447600,10458000,10489800,10531800,10534200,10554600,10570000,10753600,10927400,10964600,10977000,10999800,11071600,11119200,11120200,11159000,11321800,11332600,11333200,11538600,11715000,11724000,11740200,11749800,11779400,11791600,11795800,11864600,11968400,11985800,11994000,12039600,12078400,12123000,12125800,12239000,12289600,12494000,12508800,12532600,12676400,12718800,13805000,13813600,13839000,14025800,14056800,14075000,14647800,14924400,15103800,15250000,15482800,15735600,15743800,15849800,15942800,16010000,16159400,16172800,16301600,16405600,16488600,16532400,16562600,16677600,16693000,16766600,16824400,16839400,16939000,16970000,16992400,17066000,17221400,17230000,17232400,17239800,17248000,17337400,17379800,17764200,17767400,19228000,19252800,19281600,19535600,19577200,19637200,19717600,19811400,19812200,19922600,20208400,20478800,20500400,20959400,20986800,21022800,21112200,21113400,21349000,21502200,21616000,21660600,21671200,21754800,21766200,21985800,22108400,22350400,22366200,22378400,22777600,22865400,23345200,23494000,23503800,23511200,23670200,23671000,23693800,23730200,23810000,23856600,23866200,23880800,23884200,23945800,23946400,23961400,24017800,24069000,24104000,24116600,24125800,24151000,24164600,24194000,24284800,24305600,24357600,24741800,24808000,24828400,24861400,24967800,24969800,25048400,25071200,25071800,25174400,25254400,25291200,25292000,25323800,25324400,25349200,25558200,25565800,25573000,25593000,25663200,25751600,25755800,25942800,26126200,26126800,26145400,26185000,26231600,26249000,26297600,26316200,26319400,26323200,26324800,26361000,26436800,26452600,26490400,26496000,26546800,26560000,26605400,26632200,26648000,26704800,26758000,26798000,26826400,26855800,26871800,26946000,26947200,27018600,27112400,27152400,27190600,27216200,27226200,27247400,27324200,27480400,27560400,27647600,27683800,27691600,27815200,27929600,27949600,27953800,27954800,27957600,27959600,27985600,27988800,27995800,27998000,28051400,28052400,28098600,28156400,28195200,28240200,28286000,28414000,28558800,28562000,28572600,28585400,28654600,28695400,28743800,28831600,28844000,28878800,28908000,28918800,28968600,28973800,28994400,28995600,29062600,29111800,29211400,29213200,29240000,29252800,29450600,29507600,29556400,29562600,31191600,31229200,31537600,31628000,31635400,31768800,31845800,31867200,31885800,31886600,31895800,31950200,31960200,31971400,32109600,32226200,32228200,32253600,32292400,32354600,32403800,32405400,32408800,32423200,32429600,32478200,32537600,32573000,32644600,32665400,32670600,32687200,32715200,32738400,32756800,32800800,32816200,32859400,32965600,32986200,33004600,33115200,33116800,33178000,33219200,33281600,33338200,33429000,33501800,33545800,33564600,33592000,33646400,33721200,33722200,33814600,33815600,33937400,35324200,35331800,35449800,35496000,35544400,35657800,35668000,35733600,36022200,36042200,36042600,36106400,36172800,36183200,36234400,36273000,36348200,36395400,36553600,36614200,36620600,36626000,36688400,36771800,36788600,36831600,36850200,36862600,36915400,36928800,37939400,37979600,38019400,38060800,38155200,38258800,38273000,38324400,38396400,38454800,38470000,38471400,38477200,39025000,39324600,39338000,39456000,39491200,39571000,39661600,39662400,39669800,39680600,39873600,39957200,40024200,40024600,40041400,40123600,40204200,40348600,40367000,40397200,40420200,40504800,40562200,40618600,40626400,40722800,40780800,40838800,40851600,40914800,40942400,40973400,40996400,41128800,41129400,41134400,41156600,41174400,41267200,41444600,41706600,41708000,41826400,41827200,41831400,42127200,42139400,42348200,42356800,42383200,42479200,42500600,42799600,42845600,42921200,42927800,42995200,43123000,43146600,43231400,43281600,43311400,43388800,43423400,43637000,43739800,43823400,43832600,43854800,43918400,43996000,44115000,44171800,44411400,44435000,44439400,44444600,44445600,44456800,44494800,44678000,44820200,45096600,45139200,45180800,45196800,45204600,45240400,45265200,45279000,45284800,45301800,45308200,45450800,45475600,45516600,45671600,45768600,45792200,45804600,45955600,45964400,45986200,46009200,46016000,46048800,46151000,46214800,46215400,46268600,46528200,46530800,46596400,46663000,46668400,46712000,46766800,46805200,46908400,46932600,47068800,47081200,47132600,47184000,47644600,47778600,47798200,47902000,47998600,47999400,49241000,50575600,51425000,51433000,51441200,51634200,51680200,51700600,51762200,51983400,52082000,52194400,52343400,52498600,52520200,52606600,52830600,52833800,52868800,52888600,53017600,53067000,53163400,53191600,53386600,53392400,53479800,53661800,53685000,53703400,53791600,53793800,54303000,54354400,54410200,54411600,54517200,54587400,54664600,54750200,54870800,54878600,54940800,54943200,54953600,54964600,55007400,55112800,55180800,55228800,55351800,55679800,56572400,56646200,57042600,58202800,59011000,59164800,59183600,59220800,59239200,59247000,59281400,59369000,59407000,59485400,59537000,59616400,59761800,59799400,60036600,60163200,60225000,62190000,62901000,62902400,63152800,63249000,63832200,63988000,64058200,65210000,65431000,65532200,65719400,65885200,67194600,67235000,67389600,67395200,67446800,67518000,67859200,67895200,68140400,68150000,68201000,68201600,68373600,68627400,68961000,70670400,70686400,70819000,70875800,71546000,71778200,71778600,71954800,72197800,72246400,72745600,72755400,72860400,73023400,74375800,74475800,74662800,75051800,75197600,76080200,76189000,76249800,76620000,77165400,77514000,77683800,78147400,78224400,78244600,78392000,78444000,78468800,78609000,79083400,79085600,79111200,79115400,79143800,79302600,83284800,83530000,83921400,83974400,84107000,84158000,84167400,84542400,84609400,84763200,84766400,84899000,84908200,84944200,84970800,85038400,85086200,85155200,85158000,85410600,85557400,85645000,85724800,85741400,86042000,86173000,86846200,86860800,86968000,87169000,87379000,87380400,87597600,87793200,87796200,89148400,89355800,89457000,89486800,89529200,89535000,89591600,89594200,89663200,89725000,89736800,89740200,89744400,89752200,89873000,89989600,90018200,90097800,90222800,90228600,90247200,90285800,90289000,90307800,90422400,90459800,91022400,91186800,91486600,91520600,91614400,91869600,91965600,92269400,92351200,92482600,92494800,92545400,92763600,92875200,92925600,92942200,92948600,92970400,93002200,93003400,93049400,93249800,93297000,93324200,93342200,93348200,93416600,93419000,93425800,93430800,93456200,93457200,93498800,93507400,93543800,93636400,93644600,93684800,93810400,93912600,94311000,94344400,94374000,94538600,94558200,94702400,94850200,94883000,94884000,95006400,95067600,95201200,95267200,95320200,95428200,95537200,95699000,96460200,97186200,98376800,98384200,98407400,98510600,98514000,98637000,98789200,98835000,98863800,98871200,99336400,99906600,100230800,100251200,100274400,100314600,100434800,100502200,100597600,100714200,100730600,100816400,100865800,101080000,101178400,101359600,101490400,101577200,101593600,101644000,101702000,101728000,101756800,101757600,101758600,101774600,101775400,101776800,101812200,101874400,101875600,101919000,101941200,101992200,102162200,102247000,102424600,102446600,104067400,105249200,105530200,105747000,106289400,107598600,107682800,107792400,107985400,108328600,108371200,108372400,108382800,108384800,108387600,108419800,108462200,108504800,108600400,108606400,108620400,108622000,108741400,109101800,109187400,109202200,109233600,109288800,109419200,109505400,109583200,109585000,109617200,109632200,109642200,109756000,109791600,109824400,109939600,109968000,110025600,110026600,110028400,110036200,110052400,110075000,110088800,110161800,110210400,110346200,110346800,110452600,110527000,110576200,110752000,110879800,110882000,110926200,110949400,111212600,111213800,111329000,111415200,111459400,111505200,111681600,111742200,111755600,111756400,111763800,111766000,111767600,111770000,111772200,111888200,111949200,111990800,112013400,112019400,112050400,112135400,112161400,112280200,112297200,112933600,112938000,113008600,113160200,113216600,113246800,113257600,113261200,113304200,113393000,113497800,113589200,113614800,113931600,113935400,114299800,114326000,114353400,114413000,114446400,114471000,114889000,115052800,115123600,115258600,115299600,115322600,115641200,115681800,116184200,116213600,116681400,116694600,116915400,116960000,117056600,117112600,117297800,117358400,117369000,117420200,117601000,117908400,118147800,118158000,118198400,118201200,118277600,118301400,118327200,118471200,119682000,119869400,120254200,120413800,120435600,120611000,120623800,120665000,120753000,120836400,120838800,120904800,120906000,120925000,121138200,121157000,121200200,121258000,121260200,121271600,142890200,143686600,143741600,143742400,143766000,143911400,143913600,143998200,144310000,144310800,144338600,144362400,144491000,144496400,144518200,144518800,144573000,144583400,144593000,144595800,144908600,144925800,144927600,145039400,145095800,145129800,145139400,145154400,145195400,145208200,145382000,145395200,145427600,145437400,145455400,145457000,145469600,145472000,145476200,145506400,145515000,145548800,145574800,145588600,145609800,145666600,145826000,146008800,146081600,146372800,146518200,146642600,146696600,146713400,147012200,147070400,147072000,147141200,147400000,147550800,147623600,147669600,147735800,147790400,147806400,147874200,147930000,147953400,147994000,148175800,148193200,148532200,148543000,148555400,148645600,148928000,149136600,149138400,149215600,149222600,149224400,149378800,149398000,149399400,149575600,149605200,149763800,149782200,149802200,149810400,149821400,149829400,149832200,149857800,149858600,149870600,149887800,149899200,150038600,150120800,150159200,150185400,150206600,150240600,150265400,150293200,150335200,150459400,150487600,150533400,150539400,150551200,150601000,150669000,150738000,150848000,150898200,150946000,150968400,150978200,150980200,151019800,151031400,151042400,151118400,151128800,151137400,151161400,151170200,151226800,151253200,151299200,151318800,151371200,151430200,151482800,151583800,151735200,151762200,151789200,151790600,151792200,151793000,151793800,151795200,151797000,151800200,151965000,152006600,152019800,153517800,153541200,153606000,153630400,153642800,153699800,153755400,153894400,153895600,153917200,153930000,153935200,153938600,153949000,153959400,153962600,154154600,154192200,154193400,154243800,154296800,154299400,154530200,154531400,154579800,154599400,154907800,154914600,154927200,154933800,154946000,154954800,154957200,154971600,155023800,155035400,155051400,155053000,155053400,155056800,155099600,155107400,155112000,155145000,155149200,155162800,155178000,155188000,155196000,155210200,155213200,155214600,155220000,155223800,155231000,155242600,155246600,155277600,155292200,155531600,155568400,155579200,155606000,155657400,155714400,155826200,155828200,155880400,155903800,155946000,155947400,155989800,156022600,156051200,156163000,156182000,156251800,156264600,156307200,156416000,156426000,156469800,156474400,156541000,156551200,156553800,156560600,156570400,156675600,156697400,156710000,156711200,156720200,156735600,156786000,156830200,156933200,157107400,157493800,157598200,157622600,157629600,157962400,158082800,158150000,158152600,158170200,158217200,158223800,158255600,158300200,158303800,158322800,158332400,158368400,158369800,158415200,158458800,158465400,158901400,158968400,158978800,159893400,160000600,160039400,160067600,160068800,160071000,160174600,160230800,160254000,160312000,160369600,160407400,160417200,160509200,160538000,160548000,160598000,160616000,160616400,160676800,160696800,160703600,160738000,160807600,160960000,161008000,161014000,161038000,161067600,161087000,161101200,161122800,161128600,161135000,161146400,161171200,161195200,161195800,161276400,161283400,161359200,161368200,161493200,161499000,161575400,161576000,161581000,161695600,161718800,161735000,161903600,162039000,162467000,162530200,162759800,163290600,163892200,164527600,165566800,165599200,165602000,165666600,165737400,165796400,165820200,165840400,166049600,166458400,166807600,166844600,166938400,166943800,167012800,167028200,167036000,167059400,167073400,167078600,167188200,167190200,167424800,167443200,167486000,167522200,167585600,167596800,167682600,167686000,167690200,167774400,167789400,167904200,168025400,168104000,168114800,168147400,168194200,168311800,168317200,168408800,168435800,168482200,168489200,168505000,169013200,169074600,169078000,169335800,169396000,169454000,169478000,169498200,169555400,169574200,169636600,169662400,169663800,169679400,169692400,169763000,169861800,170037600,170043000,170115000,170137200,170217200,170463800,170500000,170531800,170604000,170610000,171282800,171453400,171639600,171653400,171710200,171749400,171750800,172349600,172395800,172412200,172500600,172607400,172612600,172631600,172644000,172648600,172677800,172714400,172715000,172788400,172797600,172852600,172863800,172876000,173171400,173379600,173445000,173501600,173683000,173792200,173796400,173836600,173990600,174127400,174768400,174907200,174934200,174938200,174959000,174967200,174991800,175041200,175160800,175178000,176175400,177827000,178511000,178693600,178942400,178994000,179050000,179098400,179103400,179197600,179262400,179267800,179334200,179783600,179800400,179846400,179850400,179922600,180122800,180182400,180470800,180554000,180600400,180915400,180950400,180990800,181002400,181057200,181068200,181073000,181118000,181997800,181999200,182228200,182359600,182365800,182399800,182557200,182573000,182583200,182758000,182808000,183164200,183438800,183549200,183603400,184019800,184355200,184715000,184722400,184942800,185014000,185124600,185139400,185285200,185308200,186343400,186587200,187041000,190548800,191143200,191175800,191855800,191858400,191999000,192127400,192371200,192484600,192486200,192498800,192508600,192510400,192514000,192515200,192520400,192521800,192541600,192543200,192544000,192578000,192580800,192777200,193027200,193072800,193090200,193387400,194585200,195022600,196619200,197114600,197169400,197450600,197730600,197742000,197747600,197870800,197877600,197886600,198016200,198071600,198125200,198492600,198503800,198589600,198608000,198624600,198627000,198633400,198645200,198649800,198651600,198899800,198928000,198977800,198987000,198997400,199013400,199035200,199131000,199132800,199141800,199142800,199145400,199147200,199150400,199151400,199171600,199187400,199212600,199252000,199518000,199901000,200271200,200320800,200378400,200406800,200499600,200501200,200588800,200637800,200707400,200988800,200990800,200993000,201083000,201122200,201436800,201475400,201797400,201865200,201923400,201951000,202112600,202128000,202310000,202312800,202317000,202777200,202857000,202895400,202926600,202935400,202968200,202975800,203236600,203264800,203273600,203289400,203296000,203582000,203595000,203642800,203733400,203764000,203830000,204098000,204255800,204351200,204380200,204381200,204449600,204462600,204474800,204484800,204489400,204547800,204776000,205090600,205111000,205179400,205196400,205473200,205560800,205599800,205648600,205719600,205743200,205781000,205792800,206136200,206138400,206643200,206729800,206736600,206784800,206807800,206857800,206929800,207093800,207140600,207223400,207225600,207262000,207494200,207627400,207669400,207817800,207819000,207922600,207924200,208034800,208037400,208041600,208045600,208046000,208056600,208136400,208259400,208416600,209161600,209392800,209396800,209743000,209928800,209940200,209957200,210000200,210484200,210501400,210516400,210629200,211431200,211499600,211689000,211750800,211752800,211848000,212002800,212208000,212360000,212428200,212457200,212587200,212605600,212731800,212739800,212768800,212781200,212784000,212809800,212838800,212871800,212964400,212968000,213030000,213188000,213223600,213935400,213956200,214025200,214453600,214600800,214628600,214723600,214775600,215740000,216394600,217803800,218458200,219047800,219346400,219786200,220218600,220262400,220267000,220267400,220444800,220983800,221886400,221913400,221957200,222011000,222638400,222762400,222790400,222791400,222816600,222884400,222945200,222987800,223070400,223254400,223307200,223315800,223497400,223536400,223840600,223936800,224032400,224033800,224052200,224058800,224179000,224301000,224356600,224370000,224392000,224517200,224544200,224621600,224645200,224688400,224690800,224698800,224727200,224803000,224811800,224906400,225117200,225118000,225614400,225632400,225654600,225839400,225964400,225997400,226067800,226111000,226186000,226248800,226250400,226270400,226297200,226308200,226373800,226495800,226520800,226594800,226613200,226616200,226814000,226841200,226862400,226890200,226925600,227126200,227750600,227915600,227922000,227975400,228058800,228269400,228290200,228296400,228327000,228352200,228400400,228457200,228593800,228673600,228688800,228757800,228771200,228782400,228871200,229163200,229388800,229406200,229439600,229473800,229476800,229643200,229693000,229760400,229829200,229889800,229991400,230089600,230202000,230204600,230220600,230446200,230562000,230562400,230777800,230889200,231002800,231113600,231174600,231347000,231376000,231472800,231556000,231663400,231739400,231748200,231761600,232362200,232714400,232716200,232734600,232736800,232764600,232929200,232940400,233046000,233059200,233085200,233248600,233417000,233430600,233463400,234250600,234306200,234349000,234353400,234365600,234462200,234507800,234536600,234613200,234653000,234658600,234734400,234744000,234745800,234811600,234859200,234860400,234907800,234980200,235147000,235246600,235291400,235323600,235369400,235408200,235460600,235462000,235489800,235491800,235529600,235586200,235666400,235805000,236029200,236304600,236443600,236447200,236557200,236686600,236767000,236922800,236957800,237899800,239880200,240739200,240777000,241681800,241694600,241802200,242010200,242108200,243263800,243277400,243417000,243517000,243584200,243592200,243636600,243645800,244012000,244166400,244210200,244212400,244394000,244462600,244613800,244624200,244815200,244996400,245026400,245028000,245081600,245127200,245132600,245317600,245474000,245541000,246117000,246669600,246728800,246853000,246862200,246886600,246909600,247094000,247170600,247241000,247266800,247289400,247334400,247373400,247494000,247537200,247553400,247578800,248070800,248644600,248728600,249119400,249131400,249151400,249156800,249167000,249199600,249201000,249250599'"
            ],
            "application/vnd.google.colaboratory.intrinsic+json": {
              "type": "string"
            }
          },
          "metadata": {},
          "execution_count": 60
        }
      ]
    },
    {
      "cell_type": "code",
      "source": [
        "nums2 = nums[2:]"
      ],
      "metadata": {
        "id": "LWqzBniGLLpH"
      },
      "execution_count": 61,
      "outputs": []
    },
    {
      "cell_type": "code",
      "source": [
        "newfile = []\n",
        "newfile.append(nums[0])\n",
        "newfile.append(nums[1]) # Первые две строки\n",
        "for i in range(len(nums2)):\n",
        "  a = nums2[i].split('\\t') # состояние\n",
        "  if (a[3] == '1') or (a[3] == '2'):\n",
        "    a[3] = 'Repressed_heterochromatin'\n",
        "  elif (a[3] == '3'):\n",
        "    a[3] = 'Repetitive'\n",
        "  elif (a[3] == '4') or (a[3] == '6'):\n",
        "    a[3] = 'Transcribed_5_Distal'\n",
        "  elif (a[3] == '5'):\n",
        "    a[3] = 'Transcribed_less_5_proximal_med_expr' \n",
        "  elif (a[3] == '7'):\n",
        "    a[3] = 'Transcribed_5_proximal_higher_expr' \n",
        "  elif (a[3] == '8'):\n",
        "    a[3] = 'Transcribed_promoter_highest_expr' \n",
        "  elif (a[3] == '9') or (a[3] == '10'):\n",
        "    a[3] = 'Promoter' \n",
        "\n",
        "  newfile.append('\\t'.join(a))"
      ],
      "metadata": {
        "id": "gk9zFcxzLowU"
      },
      "execution_count": 66,
      "outputs": []
    },
    {
      "cell_type": "code",
      "source": [
        "newfile[0:4]"
      ],
      "metadata": {
        "colab": {
          "base_uri": "https://localhost:8080/"
        },
        "id": "HgXclkZGLuKg",
        "outputId": "51e5ceb4-367d-418b-e578-a59ca78eb151"
      },
      "execution_count": 67,
      "outputs": [
        {
          "output_type": "execute_result",
          "data": {
            "text/plain": [
              "['track name=\"Expanded_DND41_10\" description=\"DND41_10 (Emission ordered)\" visibility=2 itemRgb=\"On\"',\n",
              " 'browser position chr1:1-249251',\n",
              " 'chr1\\t0\\t249250600\\tPromoter\\t0\\t.\\t28400\\t249250600\\t204,153,255\\t2062\\t0,2000,1200,1200,2400,2000,1400,1800,400,1000,200,3400,800,800,2400,800,1000,200,200,600,1200,1600,1000,800,600,1000,2200,1600,800,400,2200,1800,1400,2200,1200,2400,2000,1800,1000,1800,2600,200,2000,3000,1800,2600,1000,200,600,200,1200,2200,400,600,600,1800,1400,600,1600,3000,1800,200,3000,1800,2800,1800,1800,1400,2400,1000,1800,1600,1600,2000,400,200,1600,2600,2800,1800,1400,1200,2200,1400,2600,800,1600,1400,2600,2600,1400,1200,1600,600,1400,1600,2400,600,1800,200,1200,1200,2200,2400,800,3400,200,600,3000,1400,2400,400,800,800,1600,200,1400,2200,400,400,400,1600,800,1800,1800,1600,3000,2000,800,1200,200,1000,400,200,1000,1000,2800,400,1800,2400,1200,2000,2000,1600,1800,1200,2200,1800,400,400,1000,400,1600,800,1200,1600,1800,400,1400,1600,1000,1000,2200,2400,800,800,1600,2600,1400,1200,1400,1600,2200,2000,400,400,2000,1000,1800,1200,4000,400,200,800,2200,2000,1400,1800,800,2800,400,1800,400,1800,600,4800,2000,1800,4000,4000,1800,200,200,2000,2000,2400,1600,1800,2200,2400,2000,2200,2200,2200,2400,1800,800,2000,1000,1600,1200,3000,600,2200,1800,2200,2600,2000,2800,1200,600,1400,2200,1400,200,1400,2200,2400,1000,1000,1600,400,1800,1600,800,2000,400,1400,800,2200,2800,600,2000,2000,600,2200,1600,800,200,600,1000,3200,600,1200,2200,200,1200,2400,200,400,600,1000,2000,1600,2000,2600,1600,1000,1800,2000,2000,400,2200,200,1800,800,1800,1000,1200,400,1400,1000,3200,400,200,200,200,200,1800,1600,2200,1800,2800,200,2600,1200,400,1000,2400,2000,2000,200,800,1800,1800,1400,600,2000,2800,1800,400,1800,400,1800,1600,1800,200,200,1600,1400,2000,1800,1400,1000,1600,5800,3800,1800,2200,1600,1600,1600,400,2000,2000,1800,600,2000,2400,1600,2400,200,600,1000,400,2000,1000,400,1600,800,1400,2200,2000,1200,1600,1800,1600,1600,1600,3200,1600,2000,1800,400,1400,1800,2000,1200,600,2800,1200,800,1200,2000,600,200,1400,2200,1400,1200,1600,1800,1400,800,1800,1600,1400,600,2200,1200,800,600,200,3400,1000,200,1200,2200,1000,2400,1600,600,800,800,600,2000,1000,600,2800,2000,1600,1800,2800,1400,1800,3200,1600,1800,1400,1800,1800,1200,400,1800,1400,800,200,200,3200,600,2200,1200,1800,1000,2600,1800,600,1200,800,1200,1600,2000,600,2200,2600,1400,1800,200,2000,2400,200,1800,2000,1800,2000,2000,2000,1400,2400,2200,1600,2400,1200,2200,2000,1400,800,2600,1600,1400,2200,1600,1800,1000,1400,3600,1800,2200,2200,1600,1600,1200,200,2200,1400,2000,2200,2000,1600,1800,400,200,2600,1000,2200,400,200,800,1600,200,1400,1000,1200,200,2000,2200,1400,200,1200,2000,600,2000,600,2600,1600,2000,2400,200,3000,400,2200,400,1400,2000,1200,1800,400,800,1800,1400,600,200,2600,3200,2600,1800,2600,2200,2000,1600,600,2000,2400,2600,2200,2000,2400,2000,1600,800,2000,2400,1600,2400,1800,1800,3000,2000,1200,2200,200,200,1400,2600,2200,1600,2000,1600,200,400,1800,1600,1800,1000,1800,200,1200,2000,3800,600,1400,2200,1000,2000,2200,2400,2000,800,1200,2000,3600,400,1800,1800,800,800,3600,2200,1200,2000,3400,2000,600,400,2400,1800,2000,1800,1000,2000,2600,2600,600,600,3200,400,2400,2200,4600,200,600,2600,800,2000,1800,1000,2400,1400,3800,2400,2000,1000,2400,2000,3000,2200,1400,1600,1200,1600,1600,1800,2200,1600,2000,1400,2000,2000,1200,1600,3600,400,2200,1600,3400,1000,1800,400,2000,1200,1200,200,1800,2200,2200,2400,400,800,3200,200,2200,1400,1200,1400,400,4600,1200,1200,400,1200,200,800,2400,200,400,200,200,2000,1000,1400,3200,2000,2200,2000,2200,2000,2000,2800,2200,2400,800,1200,2400,2000,1000,2800,400,2600,600,2600,200,1200,200,600,2600,1800,1400,2400,2200,1800,200,200,200,1200,200,5600,400,200,200,800,600,2400,800,2600,1600,2800,3000,400,200,200,2800,3000,1800,1800,2000,2200,4000,200,200,1400,400,2200,400,400,400,800,600,400,400,1200,200,2400,3200,2000,2800,800,200,1600,2800,2400,800,2200,1200,800,400,800,1200,1800,1200,2000,3000,2200,600,2800,1000,1400,200,2600,1800,2800,2400,2800,2400,2400,1400,200,1200,4000,1200,2600,200,1000,1000,1000,2000,400,2200,1400,400,600,2800,400,2400,1000,1800,1200,1200,1800,200,200,1000,2200,200,1000,200,2400,1600,2000,1600,600,400,3400,600,400,600,800,1200,1400,1200,2000,1400,600,600,2600,200,200,200,400,1200,2000,1200,2800,800,2200,2400,3400,1400,2200,400,200,1000,1000,800,1000,2400,1400,200,600,200,1000,2400,1600,400,2000,1400,3800,1200,1600,600,600,800,800,200,400,1400,800,2000,200,200,2600,1800,3200,1800,2000,2200,3000,1000,1000,400,3200,2000,600,600,1800,2600,800,200,400,600,200,600,1600,200,600,1200,400,1000,400,600,200,400,400,2000,400,200,400,200,1800,2200,400,600,600,800,200,1000,600,200,400,1000,4000,400,200,800,800,2600,2600,800,3000,2400,1600,1600,1400,1600,400,2200,2600,1400,1600,1600,2400,2000,2600,800,1200,200,1200,400,600,3200,2600,1000,200,200,3400,1200,2400,2200,2000,1000,600,2200,400,4200,2000,3600,600,2200,2000,4400,200,3000,1800,400,1000,200,1000,1400,200,2200,600,400,1200,800,2400,2600,2200,400,2000,800,3000,2200,1800,1400,200,1800,600,2600,200,2000,2800,200,3200,1200,2400,2600,2200,2400,800,2600,1800,1400,1800,1200,1800,200,1600,800,400,600,1800,1800,2000,1800,400,1200,1200,1800,2800,3400,2800,800,400,200,800,200,800,2200,2600,600,1800,200,1200,2200,800,200,1000,2000,1800,1000,1200,1600,1200,200,400,600,2200,200,800,1600,200,3400,400,1800,2200,1000,200,1800,3200,200,1200,200,200,3600,400,800,1800,200,600,200,5600,1200,1600,400,600,400,1000,2600,1200,4800,400,2000,800,200,1600,3200,2200,1800,2600,800,2400,1400,2200,600,1600,1000,1800,2000,800,2800,1400,2400,2000,1200,1000,2200,1600,600,1800,200,600,800,1000,1400,2800,600,200,1400,200,600,1200,3000,200,1200,1000,600,600,1400,1200,1400,1200,1200,2800,1200,1800,3400,4400,3600,5000,400,2200,400,400,1400,2200,1800,2000,3200,200,1400,3000,1600,2000,1600,3800,1400,1800,2000,1200,1800,2200,1600,600,2200,1400,2000,200,1400,1800,1400,3200,2200,1800,1600,2200,2200,2000,1200,2400,1800,2000,1400,2600,2000,2000,1800,2000,1000,200,400,400,200,400,2200,1000,1800,3400,1400,200,200,1800,2400,2600,1800,1400,1000,1400,2400,1600,1800,2800,2400,200,1200,1800,1000,1000,2800,2400,2200,800,1200,2200,2400,3000,400,2200,1600,2200,2200,200,200,600,1800,800,200,200,2200,1200,2600,1400,2200,600,2800,1800,800,2200,1800,1200,600,1200,2000,1800,1400,2000,2200,3200,2600,600,1800,2000,2400,2000,1800,1600,1200,1400,800,2000,1400,2800,2200,1400,1600,2000,1400,2200,200,1800,2600,1600,2000,2000,400,1800,2200,1400,2400,1000,600,3000,2800,1200,400,400,2200,400,800,400,200,2000,1200,1600,200,5200,2600,1200,400,3400,1000,2600,400,800,1000,600,6200,800,1400,200,4600,2600,2400,1600,800,400,400,1200,2400,1600,2200,2200,1000,200,1400,600,1800,1600,200,1200,6000,400,200,200,1200,400,1200,2800,2000,1200,2000,2600,1800,1400,3000,1600,1600,400,2000,1000,1400,1800,2800,1800,2600,400,400,2000,2200,1600,2200,600,1200,1400,2200,1800,2400,200,1200,1400,2400,200,1800,1800,2200,800,800,1200,1600,2200,1800,600,2000,1400,400,400,1000,400,800,1600,1800,600,800,2400,1800,1400,4000,3200,400,2000,200,200,3000,400,2800,200,2000,2000,600,1000,400,200,600,800,200,1600,3200,400,2400,1600,2400,200,600,400,600,400,800,200,2000,200,2400,2200,1200,2000,1800,600,800,800,2400,800,600,1800,1400,2200,400,200,2800,1000,800,1000,1000,2200,2800,1600,400,400,1000,200,600,200,400,200,200,400,1200,1200,5000,600,2600,400,2200,2600,200,2000,2000,2200,1600,1000,1200,400,1400,2800,1600,1200,1200,1400,2600,1200,1800,2400,800,2400,2400,1000,400,1800,2000,600,1800,1400,1400,1400,2800,2200,2400,800,2200,1000,2000,1000,1600,2000,1800,2400,1200,2400,1400,1000,600,1200,2000,200,200,1600,1200,1600,1800,1600,200,3800,600,2400,2400,2600,600,2800,1000,1800,3600,400,2400,800,2200,1000,1600,600,800,200,400,600,400,2600,200,1000,1000,1600,200,400,800,1000,200,600,200,400,1600,2400,400,1600,2600,2400,2000,800,800,200,4600,2400,2600,200,1200,3200,200,2000,1600,1000,400,400,4200,400,400,2200,3400,1800,400,600,200,1000,1400,1800,1400,3200,3600,2600,800,400,400,400,600,1200,1200,200,400,400,600,600,600,1200,200,200,800,1000,1800,600,1200,200,2000,2800,2400,400,2000,600,1000,2000,2400,2000,1800,400,2000,2000,2200,2400,2200,200,2200,400,2000,1600,1600,2600,800,1400,600,200,2000,600,1400,1200,4400,400,2000,1600,2000,200,800,1000,800,400,200,2200,2600,2200,1200,400,600,1800,200,2000,1800,1800,1200,2200,1000,800,2000,2800,400,1800,2400,2200,3200,400,1600,2000,2000,1600,4000,800,1600,1600,1200,1800,1400,1000,600,600,400,2200,400,200,1600,200,1600,800,1000,1000,1800,1200,1400,400,200,2400,3600,1600,2000,800,2200,1200,600,3800,1400,400,1800,600,1600,2200,2000,400,2000,3400,1800,1800,1200,1200,1200,2400,200,1000,200,2000,2000,600,2600,2000,2200,200,2000,200,2400,1600,400,2600,2000,2000,600,1400,1600,200,2200,200,2800,1600,200,800,1800,200,600,3800,200,800,1000,1800,800,1000,1800,3200,1800,1600,1200,600,400,1200,200,2000,400,200,1200,1200,200,200,2800,1800,600,2000,1400,2000,1600,2400,200,600,1200,200,400,2400,400,600,600,200,2800,1400,1600,2400,2000,1000,3400,2000,2200,1400,1200,1400,2000,2200,1600,2000,600,1600,200,1000,400,2000,1400,1800,2200,2800,1800,1800,2000,400,200,1600,2000,1800,2200,2200,1200,600,1600,2400,600,400,400,1400,200,600,800,1800,200,800,3400,2000,2600,2600,1200,600,1000,800,1800,200,3000,200,200,200,1200,800,2200,2600,1800,600,2600,2200,3200,1800,600,800,2000,400,1400,200,1400,200,2600,400,2400,200,600,2200,1000,1400,1600,1400,400,1000,4000,400,1600,400,2600,200,2400,600,800,2200,1400,3600,800,400,1200,800,1200,800,1000,1400,2000,1200,1000,1200,600,1800,1600,2200,800,3000,800,2600,2400,2600,1200,2600,2200,1600,200,2400,400,5400,1200,200,2400,1400,2200,2200,200,1200,400,3200,1400,1600,200,1000,1200,3400,200,1400,1000,1600,600,2600,1000,2600,4400,1400,1200,1200,200,3200,1000,200,400,1000,1800,2000,400,800,2200,200,2400,1400,1600,1600,1200,1400,1200,2400,200,400,1200,400,1600,1600,2000,2200,3000,1400,1800,1200,800,1\\t0,28400,441400,540400,712800,762000,776600,839200,856600,858600,876000,894000,902000,911200,948200,954400,955400,968200,968600,975600,994200,1050800,1166400,1167600,1208600,1209400,1242400,1259200,1284000,1285000,1310000,1334000,1342000,1405800,1440000,1446200,1509200,1550200,1565400,1589800,1622800,1626400,1655000,1676000,1709200,1821200,1839600,1840800,1850200,1851200,2064000,2125000,2136800,2158800,2160200,2221200,2231800,2246800,2322200,2343000,2457000,2477400,2477800,2487000,2516600,2573200,3446600,3527400,3540000,3566000,3568000,3712400,3773000,3816000,3819400,3820400,6034800,6051400,6086000,6259000,6295200,6319800,6452400,6519800,6549600,6557600,6613800,6639400,6661200,6672600,6684800,6761400,6843600,6846000,7830800,8013600,8020400,8455600,8482600,8487400,8576400,8585200,8761800,8876400,8889400,8937400,9182600,9186200,9187000,9261200,9294200,9300000,9304400,9339000,9352400,9458000,9472800,9476400,9479600,9485800,9486600,9488400,9555200,9598800,9648200,9686600,9688400,9710800,9749000,9777200,9848000,9883000,9884200,9935200,9969200,9970600,10002000,10092400,10093000,10269600,10447600,10458000,10489800,10531800,10534200,10554600,10570000,10753600,10927400,10964600,10977000,10999800,11071600,11119200,11120200,11159000,11321800,11332600,11333200,11538600,11715000,11724000,11740200,11749800,11779400,11791600,11795800,11864600,11968400,11985800,11994000,12039600,12078400,12123000,12125800,12239000,12289600,12494000,12508800,12532600,12676400,12718800,13805000,13813600,13839000,14025800,14056800,14075000,14647800,14924400,15103800,15250000,15482800,15735600,15743800,15849800,15942800,16010000,16159400,16172800,16301600,16405600,16488600,16532400,16562600,16677600,16693000,16766600,16824400,16839400,16939000,16970000,16992400,17066000,17221400,17230000,17232400,17239800,17248000,17337400,17379800,17764200,17767400,19228000,19252800,19281600,19535600,19577200,19637200,19717600,19811400,19812200,19922600,20208400,20478800,20500400,20959400,20986800,21022800,21112200,21113400,21349000,21502200,21616000,21660600,21671200,21754800,21766200,21985800,22108400,22350400,22366200,22378400,22777600,22865400,23345200,23494000,23503800,23511200,23670200,23671000,23693800,23730200,23810000,23856600,23866200,23880800,23884200,23945800,23946400,23961400,24017800,24069000,24104000,24116600,24125800,24151000,24164600,24194000,24284800,24305600,24357600,24741800,24808000,24828400,24861400,24967800,24969800,25048400,25071200,25071800,25174400,25254400,25291200,25292000,25323800,25324400,25349200,25558200,25565800,25573000,25593000,25663200,25751600,25755800,25942800,26126200,26126800,26145400,26185000,26231600,26249000,26297600,26316200,26319400,26323200,26324800,26361000,26436800,26452600,26490400,26496000,26546800,26560000,26605400,26632200,26648000,26704800,26758000,26798000,26826400,26855800,26871800,26946000,26947200,27018600,27112400,27152400,27190600,27216200,27226200,27247400,27324200,27480400,27560400,27647600,27683800,27691600,27815200,27929600,27949600,27953800,27954800,27957600,27959600,27985600,27988800,27995800,27998000,28051400,28052400,28098600,28156400,28195200,28240200,28286000,28414000,28558800,28562000,28572600,28585400,28654600,28695400,28743800,28831600,28844000,28878800,28908000,28918800,28968600,28973800,28994400,28995600,29062600,29111800,29211400,29213200,29240000,29252800,29450600,29507600,29556400,29562600,31191600,31229200,31537600,31628000,31635400,31768800,31845800,31867200,31885800,31886600,31895800,31950200,31960200,31971400,32109600,32226200,32228200,32253600,32292400,32354600,32403800,32405400,32408800,32423200,32429600,32478200,32537600,32573000,32644600,32665400,32670600,32687200,32715200,32738400,32756800,32800800,32816200,32859400,32965600,32986200,33004600,33115200,33116800,33178000,33219200,33281600,33338200,33429000,33501800,33545800,33564600,33592000,33646400,33721200,33722200,33814600,33815600,33937400,35324200,35331800,35449800,35496000,35544400,35657800,35668000,35733600,36022200,36042200,36042600,36106400,36172800,36183200,36234400,36273000,36348200,36395400,36553600,36614200,36620600,36626000,36688400,36771800,36788600,36831600,36850200,36862600,36915400,36928800,37939400,37979600,38019400,38060800,38155200,38258800,38273000,38324400,38396400,38454800,38470000,38471400,38477200,39025000,39324600,39338000,39456000,39491200,39571000,39661600,39662400,39669800,39680600,39873600,39957200,40024200,40024600,40041400,40123600,40204200,40348600,40367000,40397200,40420200,40504800,40562200,40618600,40626400,40722800,40780800,40838800,40851600,40914800,40942400,40973400,40996400,41128800,41129400,41134400,41156600,41174400,41267200,41444600,41706600,41708000,41826400,41827200,41831400,42127200,42139400,42348200,42356800,42383200,42479200,42500600,42799600,42845600,42921200,42927800,42995200,43123000,43146600,43231400,43281600,43311400,43388800,43423400,43637000,43739800,43823400,43832600,43854800,43918400,43996000,44115000,44171800,44411400,44435000,44439400,44444600,44445600,44456800,44494800,44678000,44820200,45096600,45139200,45180800,45196800,45204600,45240400,45265200,45279000,45284800,45301800,45308200,45450800,45475600,45516600,45671600,45768600,45792200,45804600,45955600,45964400,45986200,46009200,46016000,46048800,46151000,46214800,46215400,46268600,46528200,46530800,46596400,46663000,46668400,46712000,46766800,46805200,46908400,46932600,47068800,47081200,47132600,47184000,47644600,47778600,47798200,47902000,47998600,47999400,49241000,50575600,51425000,51433000,51441200,51634200,51680200,51700600,51762200,51983400,52082000,52194400,52343400,52498600,52520200,52606600,52830600,52833800,52868800,52888600,53017600,53067000,53163400,53191600,53386600,53392400,53479800,53661800,53685000,53703400,53791600,53793800,54303000,54354400,54410200,54411600,54517200,54587400,54664600,54750200,54870800,54878600,54940800,54943200,54953600,54964600,55007400,55112800,55180800,55228800,55351800,55679800,56572400,56646200,57042600,58202800,59011000,59164800,59183600,59220800,59239200,59247000,59281400,59369000,59407000,59485400,59537000,59616400,59761800,59799400,60036600,60163200,60225000,62190000,62901000,62902400,63152800,63249000,63832200,63988000,64058200,65210000,65431000,65532200,65719400,65885200,67194600,67235000,67389600,67395200,67446800,67518000,67859200,67895200,68140400,68150000,68201000,68201600,68373600,68627400,68961000,70670400,70686400,70819000,70875800,71546000,71778200,71778600,71954800,72197800,72246400,72745600,72755400,72860400,73023400,74375800,74475800,74662800,75051800,75197600,76080200,76189000,76249800,76620000,77165400,77514000,77683800,78147400,78224400,78244600,78392000,78444000,78468800,78609000,79083400,79085600,79111200,79115400,79143800,79302600,83284800,83530000,83921400,83974400,84107000,84158000,84167400,84542400,84609400,84763200,84766400,84899000,84908200,84944200,84970800,85038400,85086200,85155200,85158000,85410600,85557400,85645000,85724800,85741400,86042000,86173000,86846200,86860800,86968000,87169000,87379000,87380400,87597600,87793200,87796200,89148400,89355800,89457000,89486800,89529200,89535000,89591600,89594200,89663200,89725000,89736800,89740200,89744400,89752200,89873000,89989600,90018200,90097800,90222800,90228600,90247200,90285800,90289000,90307800,90422400,90459800,91022400,91186800,91486600,91520600,91614400,91869600,91965600,92269400,92351200,92482600,92494800,92545400,92763600,92875200,92925600,92942200,92948600,92970400,93002200,93003400,93049400,93249800,93297000,93324200,93342200,93348200,93416600,93419000,93425800,93430800,93456200,93457200,93498800,93507400,93543800,93636400,93644600,93684800,93810400,93912600,94311000,94344400,94374000,94538600,94558200,94702400,94850200,94883000,94884000,95006400,95067600,95201200,95267200,95320200,95428200,95537200,95699000,96460200,97186200,98376800,98384200,98407400,98510600,98514000,98637000,98789200,98835000,98863800,98871200,99336400,99906600,100230800,100251200,100274400,100314600,100434800,100502200,100597600,100714200,100730600,100816400,100865800,101080000,101178400,101359600,101490400,101577200,101593600,101644000,101702000,101728000,101756800,101757600,101758600,101774600,101775400,101776800,101812200,101874400,101875600,101919000,101941200,101992200,102162200,102247000,102424600,102446600,104067400,105249200,105530200,105747000,106289400,107598600,107682800,107792400,107985400,108328600,108371200,108372400,108382800,108384800,108387600,108419800,108462200,108504800,108600400,108606400,108620400,108622000,108741400,109101800,109187400,109202200,109233600,109288800,109419200,109505400,109583200,109585000,109617200,109632200,109642200,109756000,109791600,109824400,109939600,109968000,110025600,110026600,110028400,110036200,110052400,110075000,110088800,110161800,110210400,110346200,110346800,110452600,110527000,110576200,110752000,110879800,110882000,110926200,110949400,111212600,111213800,111329000,111415200,111459400,111505200,111681600,111742200,111755600,111756400,111763800,111766000,111767600,111770000,111772200,111888200,111949200,111990800,112013400,112019400,112050400,112135400,112161400,112280200,112297200,112933600,112938000,113008600,113160200,113216600,113246800,113257600,113261200,113304200,113393000,113497800,113589200,113614800,113931600,113935400,114299800,114326000,114353400,114413000,114446400,114471000,114889000,115052800,115123600,115258600,115299600,115322600,115641200,115681800,116184200,116213600,116681400,116694600,116915400,116960000,117056600,117112600,117297800,117358400,117369000,117420200,117601000,117908400,118147800,118158000,118198400,118201200,118277600,118301400,118327200,118471200,119682000,119869400,120254200,120413800,120435600,120611000,120623800,120665000,120753000,120836400,120838800,120904800,120906000,120925000,121138200,121157000,121200200,121258000,121260200,121271600,142890200,143686600,143741600,143742400,143766000,143911400,143913600,143998200,144310000,144310800,144338600,144362400,144491000,144496400,144518200,144518800,144573000,144583400,144593000,144595800,144908600,144925800,144927600,145039400,145095800,145129800,145139400,145154400,145195400,145208200,145382000,145395200,145427600,145437400,145455400,145457000,145469600,145472000,145476200,145506400,145515000,145548800,145574800,145588600,145609800,145666600,145826000,146008800,146081600,146372800,146518200,146642600,146696600,146713400,147012200,147070400,147072000,147141200,147400000,147550800,147623600,147669600,147735800,147790400,147806400,147874200,147930000,147953400,147994000,148175800,148193200,148532200,148543000,148555400,148645600,148928000,149136600,149138400,149215600,149222600,149224400,149378800,149398000,149399400,149575600,149605200,149763800,149782200,149802200,149810400,149821400,149829400,149832200,149857800,149858600,149870600,149887800,149899200,150038600,150120800,150159200,150185400,150206600,150240600,150265400,150293200,150335200,150459400,150487600,150533400,150539400,150551200,150601000,150669000,150738000,150848000,150898200,150946000,150968400,150978200,150980200,151019800,151031400,151042400,151118400,151128800,151137400,151161400,151170200,151226800,151253200,151299200,151318800,151371200,151430200,151482800,151583800,151735200,151762200,151789200,151790600,151792200,151793000,151793800,151795200,151797000,151800200,151965000,152006600,152019800,153517800,153541200,153606000,153630400,153642800,153699800,153755400,153894400,153895600,153917200,153930000,153935200,153938600,153949000,153959400,153962600,154154600,154192200,154193400,154243800,154296800,154299400,154530200,154531400,154579800,154599400,154907800,154914600,154927200,154933800,154946000,154954800,154957200,154971600,155023800,155035400,155051400,155053000,155053400,155056800,155099600,155107400,155112000,155145000,155149200,155162800,155178000,155188000,155196000,155210200,155213200,155214600,155220000,155223800,155231000,155242600,155246600,155277600,155292200,155531600,155568400,155579200,155606000,155657400,155714400,155826200,155828200,155880400,155903800,155946000,155947400,155989800,156022600,156051200,156163000,156182000,156251800,156264600,156307200,156416000,156426000,156469800,156474400,156541000,156551200,156553800,156560600,156570400,156675600,156697400,156710000,156711200,156720200,156735600,156786000,156830200,156933200,157107400,157493800,157598200,157622600,157629600,157962400,158082800,158150000,158152600,158170200,158217200,158223800,158255600,158300200,158303800,158322800,158332400,158368400,158369800,158415200,158458800,158465400,158901400,158968400,158978800,159893400,160000600,160039400,160067600,160068800,160071000,160174600,160230800,160254000,160312000,160369600,160407400,160417200,160509200,160538000,160548000,160598000,160616000,160616400,160676800,160696800,160703600,160738000,160807600,160960000,161008000,161014000,161038000,161067600,161087000,161101200,161122800,161128600,161135000,161146400,161171200,161195200,161195800,161276400,161283400,161359200,161368200,161493200,161499000,161575400,161576000,161581000,161695600,161718800,161735000,161903600,162039000,162467000,162530200,162759800,163290600,163892200,164527600,165566800,165599200,165602000,165666600,165737400,165796400,165820200,165840400,166049600,166458400,166807600,166844600,166938400,166943800,167012800,167028200,167036000,167059400,167073400,167078600,167188200,167190200,167424800,167443200,167486000,167522200,167585600,167596800,167682600,167686000,167690200,167774400,167789400,167904200,168025400,168104000,168114800,168147400,168194200,168311800,168317200,168408800,168435800,168482200,168489200,168505000,169013200,169074600,169078000,169335800,169396000,169454000,169478000,169498200,169555400,169574200,169636600,169662400,169663800,169679400,169692400,169763000,169861800,170037600,170043000,170115000,170137200,170217200,170463800,170500000,170531800,170604000,170610000,171282800,171453400,171639600,171653400,171710200,171749400,171750800,172349600,172395800,172412200,172500600,172607400,172612600,172631600,172644000,172648600,172677800,172714400,172715000,172788400,172797600,172852600,172863800,172876000,173171400,173379600,173445000,173501600,173683000,173792200,173796400,173836600,173990600,174127400,174768400,174907200,174934200,174938200,174959000,174967200,174991800,175041200,175160800,175178000,176175400,177827000,178511000,178693600,178942400,178994000,179050000,179098400,179103400,179197600,179262400,179267800,179334200,179783600,179800400,179846400,179850400,179922600,180122800,180182400,180470800,180554000,180600400,180915400,180950400,180990800,181002400,181057200,181068200,181073000,181118000,181997800,181999200,182228200,182359600,182365800,182399800,182557200,182573000,182583200,182758000,182808000,183164200,183438800,183549200,183603400,184019800,184355200,184715000,184722400,184942800,185014000,185124600,185139400,185285200,185308200,186343400,186587200,187041000,190548800,191143200,191175800,191855800,191858400,191999000,192127400,192371200,192484600,192486200,192498800,192508600,192510400,192514000,192515200,192520400,192521800,192541600,192543200,192544000,192578000,192580800,192777200,193027200,193072800,193090200,193387400,194585200,195022600,196619200,197114600,197169400,197450600,197730600,197742000,197747600,197870800,197877600,197886600,198016200,198071600,198125200,198492600,198503800,198589600,198608000,198624600,198627000,198633400,198645200,198649800,198651600,198899800,198928000,198977800,198987000,198997400,199013400,199035200,199131000,199132800,199141800,199142800,199145400,199147200,199150400,199151400,199171600,199187400,199212600,199252000,199518000,199901000,200271200,200320800,200378400,200406800,200499600,200501200,200588800,200637800,200707400,200988800,200990800,200993000,201083000,201122200,201436800,201475400,201797400,201865200,201923400,201951000,202112600,202128000,202310000,202312800,202317000,202777200,202857000,202895400,202926600,202935400,202968200,202975800,203236600,203264800,203273600,203289400,203296000,203582000,203595000,203642800,203733400,203764000,203830000,204098000,204255800,204351200,204380200,204381200,204449600,204462600,204474800,204484800,204489400,204547800,204776000,205090600,205111000,205179400,205196400,205473200,205560800,205599800,205648600,205719600,205743200,205781000,205792800,206136200,206138400,206643200,206729800,206736600,206784800,206807800,206857800,206929800,207093800,207140600,207223400,207225600,207262000,207494200,207627400,207669400,207817800,207819000,207922600,207924200,208034800,208037400,208041600,208045600,208046000,208056600,208136400,208259400,208416600,209161600,209392800,209396800,209743000,209928800,209940200,209957200,210000200,210484200,210501400,210516400,210629200,211431200,211499600,211689000,211750800,211752800,211848000,212002800,212208000,212360000,212428200,212457200,212587200,212605600,212731800,212739800,212768800,212781200,212784000,212809800,212838800,212871800,212964400,212968000,213030000,213188000,213223600,213935400,213956200,214025200,214453600,214600800,214628600,214723600,214775600,215740000,216394600,217803800,218458200,219047800,219346400,219786200,220218600,220262400,220267000,220267400,220444800,220983800,221886400,221913400,221957200,222011000,222638400,222762400,222790400,222791400,222816600,222884400,222945200,222987800,223070400,223254400,223307200,223315800,223497400,223536400,223840600,223936800,224032400,224033800,224052200,224058800,224179000,224301000,224356600,224370000,224392000,224517200,224544200,224621600,224645200,224688400,224690800,224698800,224727200,224803000,224811800,224906400,225117200,225118000,225614400,225632400,225654600,225839400,225964400,225997400,226067800,226111000,226186000,226248800,226250400,226270400,226297200,226308200,226373800,226495800,226520800,226594800,226613200,226616200,226814000,226841200,226862400,226890200,226925600,227126200,227750600,227915600,227922000,227975400,228058800,228269400,228290200,228296400,228327000,228352200,228400400,228457200,228593800,228673600,228688800,228757800,228771200,228782400,228871200,229163200,229388800,229406200,229439600,229473800,229476800,229643200,229693000,229760400,229829200,229889800,229991400,230089600,230202000,230204600,230220600,230446200,230562000,230562400,230777800,230889200,231002800,231113600,231174600,231347000,231376000,231472800,231556000,231663400,231739400,231748200,231761600,232362200,232714400,232716200,232734600,232736800,232764600,232929200,232940400,233046000,233059200,233085200,233248600,233417000,233430600,233463400,234250600,234306200,234349000,234353400,234365600,234462200,234507800,234536600,234613200,234653000,234658600,234734400,234744000,234745800,234811600,234859200,234860400,234907800,234980200,235147000,235246600,235291400,235323600,235369400,235408200,235460600,235462000,235489800,235491800,235529600,235586200,235666400,235805000,236029200,236304600,236443600,236447200,236557200,236686600,236767000,236922800,236957800,237899800,239880200,240739200,240777000,241681800,241694600,241802200,242010200,242108200,243263800,243277400,243417000,243517000,243584200,243592200,243636600,243645800,244012000,244166400,244210200,244212400,244394000,244462600,244613800,244624200,244815200,244996400,245026400,245028000,245081600,245127200,245132600,245317600,245474000,245541000,246117000,246669600,246728800,246853000,246862200,246886600,246909600,247094000,247170600,247241000,247266800,247289400,247334400,247373400,247494000,247537200,247553400,247578800,248070800,248644600,248728600,249119400,249131400,249151400,249156800,249167000,249199600,249201000,249250599',\n",
              " 'chr10\\t0\\t135534600\\tPromoter\\t0\\t.\\t173400\\t135534600\\t204,153,255\\t843\\t0,600,4200,800,3000,2200,2200,1800,1400,400,800,800,200,1400,2400,800,200,400,200,200,1200,800,800,2400,1600,200,2000,800,400,200,600,1200,200,200,1400,200,1200,200,400,200,400,1600,1200,600,200,200,400,400,1000,1400,1000,200,2000,3200,800,1400,1600,2000,1000,1200,2400,2400,1200,200,200,400,1000,600,1800,1600,4000,600,2600,1000,200,1600,200,1800,3800,2400,3400,1000,200,800,400,1800,2200,1600,3800,800,2200,200,200,2400,1400,1000,600,800,800,200,4600,1200,400,1000,2200,400,800,600,200,1000,1400,600,2400,1800,2000,2600,600,2800,400,1600,1200,200,1600,1800,1600,1400,4400,1600,400,600,4400,1800,200,800,800,2400,2400,2000,1800,1400,1800,2000,1200,2400,1200,1600,400,600,2000,1800,2000,1600,1200,2200,3200,800,200,1800,2000,800,800,200,800,3000,2400,800,2600,1600,200,1600,1000,1200,2000,2000,600,2000,1800,1000,800,1800,600,2200,2000,800,1000,600,2000,2000,600,2200,200,2000,600,600,400,3000,1000,400,2000,2600,800,1800,400,3600,1400,600,800,2400,1600,400,1800,3000,4200,800,1600,400,1600,600,1800,400,2600,400,200,800,1600,200,2000,600,400,1400,200,1600,400,2400,1200,200,600,1200,2200,400,1400,2800,1000,800,400,1000,600,2600,1200,800,2800,3200,1200,1400,3200,2000,200,2600,3800,200,2800,2200,1400,400,1400,600,200,2400,200,2800,1000,400,1400,2000,800,1600,2000,200,2400,400,1000,2000,2400,2200,1200,2000,600,2000,1400,1400,200,2400,2600,2000,200,2600,2000,4000,1800,2000,1600,2600,200,600,1600,2000,2200,1000,1600,800,200,600,1000,1200,1800,2600,1000,2400,1800,2400,2200,1400,1000,200,2400,1200,400,2800,600,1800,400,2400,1200,1200,200,2400,1800,1800,600,400,1000,200,2000,1600,1200,2000,400,1000,800,1800,1600,400,2200,800,1200,1800,2000,400,600,1600,400,2800,600,5600,1800,2200,3600,1800,2400,1000,600,1200,600,5000,800,1800,2800,2200,4800,1600,2800,2800,200,2400,1200,1200,2200,2000,200,2200,1600,1600,1400,2600,1000,2400,1800,2600,2000,2400,1600,800,2200,2000,400,2600,2800,1800,2200,1600,2000,2800,200,800,1000,1800,2000,800,200,1800,800,200,1000,2400,1800,200,1600,2200,1400,1000,1400,1600,2000,2000,800,1000,2000,400,2600,400,400,600,1600,600,2000,1800,2600,1800,1600,2000,2400,2200,1000,1200,1000,2200,1800,1800,2000,1600,1800,1200,2000,200,400,200,1400,600,200,1600,2200,2400,600,1400,1400,400,600,3000,2000,1400,1600,400,1000,600,2000,1600,1600,1400,1800,1000,4000,1000,200,400,1000,2800,200,200,2800,400,2000,1800,200,2000,400,1200,1000,1800,400,1400,400,200,1400,1200,800,1800,2000,1000,1400,200,1400,1200,600,800,2600,2200,200,2200,4200,400,1000,2000,400,600,200,2200,1000,2200,1400,1600,1200,2200,2000,1400,800,1400,3200,2600,200,2200,1000,200,800,1200,200,200,200,600,600,2600,1400,600,200,2400,3200,2800,1800,2600,1200,2600,2600,3400,2000,2600,400,200,1800,400,1800,2200,1400,1800,200,2000,1800,1800,2600,2000,600,2400,600,200,1200,400,3800,400,800,1400,2200,1400,400,2600,1200,1400,2200,2200,1000,200,2000,1800,2200,1600,2200,2000,1400,800,600,1800,800,1200,2000,2800,1000,1600,2600,2000,2600,2000,1600,1800,2400,3000,1600,1800,400,1600,1400,400,1600,1400,3800,2800,1800,2600,600,600,1800,1200,2600,2400,400,1800,2400,1800,800,1000,1400,1600,2200,4200,1800,1400,200,1800,3400,1400,400,2800,1600,1600,2200,1600,3600,5000,2000,2200,400,1000,2000,1600,200,4400,1200,400,2000,1800,2000,2000,2200,800,3200,1400,200,1200,1200,800,200,1800,1200,1800,1800,1600,600,2200,1000,400,400,1800,2400,4200,600,3400,1600,2600,2200,3600,3000,2200,1600,2000,1200,200,3000,400,800,200,1000,400,2200,400,600,3200,200,2400,600,200,200,2400,800,1000,200,2400,1200,1800,200,200,600,2800,200,2000,1800,200,200,1800,2200,1400,200,800,400,2600,2200,3800,1600,600,1600,2000,1000,1200,800,2400,2400,2600,2000,2400,2000,1600,3000,1800,200,6000,2200,2000,1800,2800,1800,600,400,1400,1400,800,1600,200,1000,3000,1800,1600,2200,400,400,200,600,2600,2200,2600,200,2600,1000,400,2000,400,2200,1600,800,200,200,200,1600,200,2200,1600,2800,1800,2000,1000,1200,2000,200,600,1400,400,1600,1600,400,1600,1400,600,1200,1600,1200,1400,2600,400,1\\t0,173400,178800,375200,976400,1033000,1094200,1101800,1281600,1390800,1462600,1496600,1504800,1531000,1568200,1778600,1779600,2583200,2584000,2586000,2786400,2833600,2927600,2939400,2950200,2952400,3109400,3214200,3215200,3239800,3596400,3694600,3709200,3710600,3806200,3827200,3827800,3846800,3847600,3849000,3852200,3853000,3870600,4001800,4002800,4003800,4014200,4102200,4172800,4283800,4493000,4891800,5294000,5333400,5359200,5454000,5707800,5725800,5854400,5855600,5930600,6018200,6092400,6093800,6110600,6130400,6131000,6182200,6186200,6205000,6242200,6342200,6388400,6423800,6515200,6515800,6537200,6584800,6620400,6969000,7450400,7513600,7525800,7526400,7554400,7829200,7859400,8086800,8095200,8102200,8286600,8357000,8358000,8373000,8445800,8633000,8819400,10180400,11187200,11192600,11204800,11219800,11467400,11569600,11652600,11674200,11726800,11779400,11861800,11865000,11905000,11916400,12083800,12110400,12170600,12236600,12306200,12390400,12491000,12629200,12647400,12723200,13141600,13202800,13341400,13343400,13388200,13628400,13742200,13743000,13746200,13759600,13785200,13828800,14051400,14879000,14919800,14995000,15001000,15129800,15138400,15182600,15209600,15211000,15250200,15411600,15413400,15476200,15901600,16478200,16858800,17065000,17071200,17242200,17269400,17470600,17628800,17658400,17685200,17786400,18033400,18790400,18916000,18938400,18947000,21661600,21783400,21805200,21809000,21814200,21822000,21823200,22291200,22517600,22540600,22604400,22608800,22611000,22614200,22621200,22625200,22628400,22725600,22900600,22955400,22972000,23002400,23384400,23657400,23727400,24243400,24497600,24632800,24639200,24640200,25011200,25051200,25171200,25240400,25304400,25754600,26503800,26624200,26726000,26737200,26768800,26770800,26985400,27148400,27150200,27388600,27442400,27528800,27580200,27792400,28247400,28286800,28467000,28591000,28721200,28820600,29593600,29668200,29668600,29697800,29879400,30023600,30101000,30138400,30315800,30520200,30637000,30707800,30721800,30725800,30745400,30818200,30989800,30993000,30995600,31072800,31319600,31322800,31379000,31382200,31384800,31386000,31422000,31424800,31426400,31434600,31606800,31892000,32048400,32216600,32344400,32545800,32634600,32665400,32676000,32734000,33246200,33269000,33297400,33339200,33375800,33428400,33622200,33776200,35102800,35119000,35155400,35157600,35378400,35414800,35415800,35483800,35507600,35624400,37105400,38062800,38145600,38263800,38298600,38326800,38382600,38435400,38644600,38690400,38692000,42379800,43046800,43132400,43277000,43601200,43632600,43891800,43902000,43915400,43931200,43947400,43949600,43957600,44090400,44101400,44117400,44143200,44185200,44311200,44341600,44983800,45360000,45374000,45408800,45454000,45495000,46075800,46088600,46167000,46221200,46761800,46913200,46951200,47151600,47242400,47395400,47556000,47639200,47654000,47655200,47669200,48184400,48354200,48427000,48481600,48951600,49494800,49514000,49864400,50013000,50142600,50143800,50391600,50395400,50517600,50746000,50814800,50857200,50969800,51370400,51488400,51500000,51500800,51517800,51564600,51622600,51826400,52498400,52500000,53458800,57659200,58120000,58382000,60024200,60094000,60144000,61665000,62537400,62702200,63045600,63157400,63211800,63525200,63659000,64286800,64563600,64575400,64892400,65024800,65224600,65280000,65388600,68958800,69523200,69596800,69609000,69643800,69833800,70087800,70090600,70166000,70230600,70286600,70319400,70322400,70359600,70480400,70586000,70660000,70714600,70747800,70847400,70882800,70938800,70982200,71077200,71904800,71929600,71991800,72141200,72163200,72237600,72338000,72361800,72431600,72575000,72647000,72972400,73074400,73078400,73136800,73516800,73528800,73531600,73609800,73637000,73637400,73647400,73847000,73866600,73975000,74007600,74019600,74032400,74057000,74061400,74078200,74080600,74086400,74089800,74091200,74094200,74113800,74124000,74384800,74451200,74855000,74869800,74927200,75006200,75011600,75172400,75254600,75255800,75351000,75384400,75489200,75503000,75531600,75540800,75544600,75570400,75633200,75639600,75668000,75669000,75670200,75700200,75751800,75757200,75910000,75935200,75949800,76344600,76584400,76586200,76586800,76869400,76969400,76994800,77054000,78801600,79023800,79596000,79685600,79788600,79792800,80062200,80732800,80807600,80826600,80896600,80898000,81082400,81107200,81203400,81297200,81409800,81585000,81665200,81837800,81964200,81982400,82167600,82213400,82214000,82253200,85898400,86068800,86087800,86090000,87778000,88159400,88170600,88172600,88280600,88470400,88515200,88516400,88699400,88853400,88855000,88926800,88963200,89101000,89264000,89361600,89577000,89620400,89954000,90030800,90144800,90147400,90151600,90638200,90639200,90734400,90750000,90843200,90845800,90966200,91010200,91060800,91087200,91091800,91151600,91172400,91403400,91459800,91460200,91620200,91705800,92617400,92631200,92695200,92705400,92707400,92708400,92766200,92921400,92980000,93058000,93149600,93168600,93556000,93667000,93682600,93999000,94002400,94049800,94332400,94350600,94449000,94459000,94462200,94591000,94607800,95242000,95255200,95461200,96121800,96304600,96306600,97415200,97452800,97666400,97802200,97848800,97884200,97889000,98055600,98058800,98059400,98061000,98063600,98073400,98134800,98272800,98345600,98479800,98561200,98590800,98955600,99051400,99078200,99093200,99160400,99167200,99184800,99204800,99257200,99399800,99446000,99472800,99496400,99608800,99610000,99893600,100028200,100174000,100205800,101189200,101379000,101380600,101490600,101768400,101944600,101988400,102026600,102045400,102105400,102132600,102241400,102267600,102270400,102288600,102294800,102414000,102671600,102746600,102756200,102790200,102801800,102819800,102827200,102973400,103113000,103329600,103346600,103453200,103540800,103542400,103577200,103590000,103600400,103603200,103815200,103824200,103873800,103877200,103892000,103911400,103989800,104004400,104153000,104158400,104169200,104179000,104191200,104194800,104209200,104220400,104261400,104401200,104433600,104473000,104503000,104503600,104535400,104613400,104615200,104677000,104813200,104941000,104951800,105109800,105127000,105155400,105210400,105302400,105419000,105531400,105668000,105670000,105676800,105678200,105725600,105726200,105880400,105881800,106013800,106028200,106088600,106097200,106113000,107597600,109413600,111682000,111766800,111967200,111981200,111984800,112064000,112256200,112326400,112630600,112677400,113942400,114135400,114205800,114438000,114439600,114709200,114767200,114810400,114863400,115141200,115323000,115438400,115611400,115612200,115613200,115721000,115802200,115833200,115842600,115856000,115932600,116286200,116560600,116571600,116580800,116697600,116852000,116967400,118547400,118934000,119133400,119795200,119805400,120100800,120219000,120280600,120513600,120788400,120839800,120863200,120863600,120891000,120923800,120937200,120965800,120970800,121045000,121065000,121237400,121248800,121261400,121275800,121301200,121355200,121409800,121484600,121631400,121651200,122610000,123685800,123733800,124058600,124133400,124638200,124712600,124739200,124767000,124913000,125753800,125803000,125851000,126042800,126077600,126149800,126301200,126336200,126430800,126479600,126489800,126604400,126678000,126681600,126683000,126847200,126848000,127407000,127510400,129809800,129845000,129861200,129862600,129923600,129948400,129978800,129985200,130010000,130699400,130700200,130830000,130833400,130835400,131264600,131555200,131908000,131933800,132882200,134144400,134145600,134209800,134260800,134266400,134349600,134351400,134364200,135121400,135132000,135170000,135185600,135187200,135191400,135207000,135333400,135450600,135460800,135464600,135534599']"
            ]
          },
          "metadata": {},
          "execution_count": 67
        }
      ]
    },
    {
      "cell_type": "code",
      "source": [
        "np.savetxt('/content/drive/MyDrive/LearnModelOutput/NEW_DND41_10_expanded.bed', newfile, fmt=\"%s\")"
      ],
      "metadata": {
        "id": "OyEJfIg2NBk2"
      },
      "execution_count": 68,
      "outputs": []
    },
    {
      "cell_type": "code",
      "source": [
        ""
      ],
      "metadata": {
        "id": "SbHG-FJpNe7x"
      },
      "execution_count": null,
      "outputs": []
    }
  ]
}